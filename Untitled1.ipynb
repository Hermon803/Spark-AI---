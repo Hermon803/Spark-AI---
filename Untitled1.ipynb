{
 "cells": [
  {
   "cell_type": "code",
   "execution_count": 13,
   "id": "d2b85715-6533-49af-9507-989ea38c5858",
   "metadata": {
    "scrolled": true
   },
   "outputs": [
    {
     "name": "stdout",
     "output_type": "stream",
     "text": [
      "Processing DICOM files...\n"
     ]
    },
    {
     "name": "stderr",
     "output_type": "stream",
     "text": [
      "  3%|██▏                                                                           | 228/8360 [00:00<00:14, 564.01it/s]"
     ]
    },
    {
     "name": "stdout",
     "output_type": "stream",
     "text": [
      "Error processing D:\\Progress\\MRI\\spinaldisease_lumbartrain150_datasets\\lumbar_train150\\study101\\image55.dcm: Exception thrown in SimpleITK ImageFileReader_ReadImageInformation: D:\\a\\SimpleITK\\SimpleITK\\Code\\IO\\src\\sitkImageReaderBase.cxx:99:\n",
      "sitk::ERROR: Unable to determine ImageIO reader for \"D:\\Progress\\MRI\\spinaldisease_lumbartrain150_datasets\\lumbar_train150\\study101\\image55.dcm\"\n"
     ]
    },
    {
     "name": "stderr",
     "output_type": "stream",
     "text": [
      "  5%|████▎                                                                         | 456/8360 [00:00<00:14, 558.87it/s]"
     ]
    },
    {
     "name": "stdout",
     "output_type": "stream",
     "text": [
      "Error processing D:\\Progress\\MRI\\spinaldisease_lumbartrain150_datasets\\lumbar_train150\\study106\\image49.dcm: Exception thrown in SimpleITK ImageFileReader_ReadImageInformation: D:\\a\\SimpleITK\\SimpleITK\\Code\\IO\\src\\sitkImageReaderBase.cxx:99:\n",
      "sitk::ERROR: Unable to determine ImageIO reader for \"D:\\Progress\\MRI\\spinaldisease_lumbartrain150_datasets\\lumbar_train150\\study106\\image49.dcm\"\n"
     ]
    },
    {
     "name": "stderr",
     "output_type": "stream",
     "text": [
      "  7%|█████▎                                                                        | 572/8360 [00:01<00:14, 528.35it/s]"
     ]
    },
    {
     "name": "stdout",
     "output_type": "stream",
     "text": [
      "Error processing D:\\Progress\\MRI\\spinaldisease_lumbartrain150_datasets\\lumbar_train150\\study108\\image55.dcm: Exception thrown in SimpleITK ImageFileReader_ReadImageInformation: D:\\a\\SimpleITK\\SimpleITK\\Code\\IO\\src\\sitkImageReaderBase.cxx:99:\n",
      "sitk::ERROR: Unable to determine ImageIO reader for \"D:\\Progress\\MRI\\spinaldisease_lumbartrain150_datasets\\lumbar_train150\\study108\\image55.dcm\"\n",
      "Error processing D:\\Progress\\MRI\\spinaldisease_lumbartrain150_datasets\\lumbar_train150\\study108\\image56.dcm: Exception thrown in SimpleITK ImageFileReader_ReadImageInformation: D:\\a\\SimpleITK\\SimpleITK\\Code\\IO\\src\\sitkImageReaderBase.cxx:99:\n",
      "sitk::ERROR: Unable to determine ImageIO reader for \"D:\\Progress\\MRI\\spinaldisease_lumbartrain150_datasets\\lumbar_train150\\study108\\image56.dcm\"\n",
      "Error processing D:\\Progress\\MRI\\spinaldisease_lumbartrain150_datasets\\lumbar_train150\\study108\\image57.dcm: Exception thrown in SimpleITK ImageFileReader_ReadImageInformation: D:\\a\\SimpleITK\\SimpleITK\\Code\\IO\\src\\sitkImageReaderBase.cxx:99:\n",
      "sitk::ERROR: Unable to determine ImageIO reader for \"D:\\Progress\\MRI\\spinaldisease_lumbartrain150_datasets\\lumbar_train150\\study108\\image57.dcm\"\n",
      "Error processing D:\\Progress\\MRI\\spinaldisease_lumbartrain150_datasets\\lumbar_train150\\study108\\image58.dcm: Exception thrown in SimpleITK ImageFileReader_ReadImageInformation: D:\\a\\SimpleITK\\SimpleITK\\Code\\IO\\src\\sitkImageReaderBase.cxx:99:\n",
      "sitk::ERROR: Unable to determine ImageIO reader for \"D:\\Progress\\MRI\\spinaldisease_lumbartrain150_datasets\\lumbar_train150\\study108\\image58.dcm\"\n",
      "Error processing D:\\Progress\\MRI\\spinaldisease_lumbartrain150_datasets\\lumbar_train150\\study108\\image59.dcm: Exception thrown in SimpleITK ImageFileReader_ReadImageInformation: D:\\a\\SimpleITK\\SimpleITK\\Code\\IO\\src\\sitkImageReaderBase.cxx:99:\n",
      "sitk::ERROR: Unable to determine ImageIO reader for \"D:\\Progress\\MRI\\spinaldisease_lumbartrain150_datasets\\lumbar_train150\\study108\\image59.dcm\"\n"
     ]
    },
    {
     "name": "stderr",
     "output_type": "stream",
     "text": [
      " 10%|███████▌                                                                      | 812/8360 [00:01<00:12, 580.86it/s]"
     ]
    },
    {
     "name": "stdout",
     "output_type": "stream",
     "text": [
      "Error processing D:\\Progress\\MRI\\spinaldisease_lumbartrain150_datasets\\lumbar_train150\\study110\\image55.dcm: Exception thrown in SimpleITK ImageFileReader_ReadImageInformation: D:\\a\\SimpleITK\\SimpleITK\\Code\\IO\\src\\sitkImageReaderBase.cxx:99:\n",
      "sitk::ERROR: Unable to determine ImageIO reader for \"D:\\Progress\\MRI\\spinaldisease_lumbartrain150_datasets\\lumbar_train150\\study110\\image55.dcm\"\n",
      "Error processing D:\\Progress\\MRI\\spinaldisease_lumbartrain150_datasets\\lumbar_train150\\study112\\image49.dcm: Exception thrown in SimpleITK ImageFileReader_ReadImageInformation: D:\\a\\SimpleITK\\SimpleITK\\Code\\IO\\src\\sitkImageReaderBase.cxx:99:\n",
      "sitk::ERROR: Unable to determine ImageIO reader for \"D:\\Progress\\MRI\\spinaldisease_lumbartrain150_datasets\\lumbar_train150\\study112\\image49.dcm\"\n"
     ]
    },
    {
     "name": "stderr",
     "output_type": "stream",
     "text": [
      " 13%|█████████▋                                                                   | 1055/8360 [00:01<00:12, 590.29it/s]"
     ]
    },
    {
     "name": "stdout",
     "output_type": "stream",
     "text": [
      "Error processing D:\\Progress\\MRI\\spinaldisease_lumbartrain150_datasets\\lumbar_train150\\study115\\image46.dcm: Exception thrown in SimpleITK ImageFileReader_ReadImageInformation: D:\\a\\SimpleITK\\SimpleITK\\Code\\IO\\src\\sitkImageReaderBase.cxx:99:\n",
      "sitk::ERROR: Unable to determine ImageIO reader for \"D:\\Progress\\MRI\\spinaldisease_lumbartrain150_datasets\\lumbar_train150\\study115\\image46.dcm\"\n"
     ]
    },
    {
     "name": "stderr",
     "output_type": "stream",
     "text": [
      " 15%|███████████▎                                                                 | 1226/8360 [00:02<00:13, 543.89it/s]"
     ]
    },
    {
     "name": "stdout",
     "output_type": "stream",
     "text": [
      "Error processing D:\\Progress\\MRI\\spinaldisease_lumbartrain150_datasets\\lumbar_train150\\study118\\image55.dcm: Exception thrown in SimpleITK ImageFileReader_ReadImageInformation: D:\\a\\SimpleITK\\SimpleITK\\Code\\IO\\src\\sitkImageReaderBase.cxx:99:\n",
      "sitk::ERROR: Unable to determine ImageIO reader for \"D:\\Progress\\MRI\\spinaldisease_lumbartrain150_datasets\\lumbar_train150\\study118\\image55.dcm\"\n",
      "Error processing D:\\Progress\\MRI\\spinaldisease_lumbartrain150_datasets\\lumbar_train150\\study118\\image56.dcm: Exception thrown in SimpleITK ImageFileReader_ReadImageInformation: D:\\a\\SimpleITK\\SimpleITK\\Code\\IO\\src\\sitkImageReaderBase.cxx:99:\n",
      "sitk::ERROR: Unable to determine ImageIO reader for \"D:\\Progress\\MRI\\spinaldisease_lumbartrain150_datasets\\lumbar_train150\\study118\\image56.dcm\"\n"
     ]
    },
    {
     "name": "stderr",
     "output_type": "stream",
     "text": [
      " 17%|████████████▊                                                                | 1389/8360 [00:02<00:13, 512.58it/s]"
     ]
    },
    {
     "name": "stdout",
     "output_type": "stream",
     "text": [
      "Error processing D:\\Progress\\MRI\\spinaldisease_lumbartrain150_datasets\\lumbar_train150\\study122\\image49.dcm: Exception thrown in SimpleITK ImageFileReader_ReadImageInformation: D:\\a\\SimpleITK\\SimpleITK\\Code\\IO\\src\\sitkImageReaderBase.cxx:99:\n",
      "sitk::ERROR: Unable to determine ImageIO reader for \"D:\\Progress\\MRI\\spinaldisease_lumbartrain150_datasets\\lumbar_train150\\study122\\image49.dcm\"\n",
      "Error processing D:\\Progress\\MRI\\spinaldisease_lumbartrain150_datasets\\lumbar_train150\\study122\\image50.dcm: Exception thrown in SimpleITK ImageFileReader_ReadImageInformation: D:\\a\\SimpleITK\\SimpleITK\\Code\\IO\\src\\sitkImageReaderBase.cxx:99:\n",
      "sitk::ERROR: Unable to determine ImageIO reader for \"D:\\Progress\\MRI\\spinaldisease_lumbartrain150_datasets\\lumbar_train150\\study122\\image50.dcm\"\n",
      "Error processing D:\\Progress\\MRI\\spinaldisease_lumbartrain150_datasets\\lumbar_train150\\study123\\image69.dcm: Exception thrown in SimpleITK ImageFileReader_ReadImageInformation: D:\\a\\SimpleITK\\SimpleITK\\Code\\IO\\src\\sitkImageReaderBase.cxx:99:\n",
      "sitk::ERROR: Unable to determine ImageIO reader for \"D:\\Progress\\MRI\\spinaldisease_lumbartrain150_datasets\\lumbar_train150\\study123\\image69.dcm\"\n"
     ]
    },
    {
     "name": "stderr",
     "output_type": "stream",
     "text": [
      " 19%|██████████████▋                                                              | 1594/8360 [00:03<00:15, 423.38it/s]"
     ]
    },
    {
     "name": "stdout",
     "output_type": "stream",
     "text": [
      "Error processing D:\\Progress\\MRI\\spinaldisease_lumbartrain150_datasets\\lumbar_train150\\study125\\image53.dcm: Exception thrown in SimpleITK ImageFileReader_ReadImageInformation: D:\\a\\SimpleITK\\SimpleITK\\Code\\IO\\src\\sitkImageReaderBase.cxx:99:\n",
      "sitk::ERROR: Unable to determine ImageIO reader for \"D:\\Progress\\MRI\\spinaldisease_lumbartrain150_datasets\\lumbar_train150\\study125\\image53.dcm\"\n",
      "Error processing D:\\Progress\\MRI\\spinaldisease_lumbartrain150_datasets\\lumbar_train150\\study126\\image49.dcm: Exception thrown in SimpleITK ImageFileReader_ReadImageInformation: D:\\a\\SimpleITK\\SimpleITK\\Code\\IO\\src\\sitkImageReaderBase.cxx:99:\n",
      "sitk::ERROR: Unable to determine ImageIO reader for \"D:\\Progress\\MRI\\spinaldisease_lumbartrain150_datasets\\lumbar_train150\\study126\\image49.dcm\"\n"
     ]
    },
    {
     "name": "stderr",
     "output_type": "stream",
     "text": [
      " 21%|███████████████▉                                                             | 1727/8360 [00:03<00:15, 424.95it/s]"
     ]
    },
    {
     "name": "stdout",
     "output_type": "stream",
     "text": [
      "Error processing D:\\Progress\\MRI\\spinaldisease_lumbartrain150_datasets\\lumbar_train150\\study127\\image55.dcm: Exception thrown in SimpleITK ImageFileReader_ReadImageInformation: D:\\a\\SimpleITK\\SimpleITK\\Code\\IO\\src\\sitkImageReaderBase.cxx:99:\n",
      "sitk::ERROR: Unable to determine ImageIO reader for \"D:\\Progress\\MRI\\spinaldisease_lumbartrain150_datasets\\lumbar_train150\\study127\\image55.dcm\"\n"
     ]
    },
    {
     "name": "stderr",
     "output_type": "stream",
     "text": [
      " 23%|█████████████████▍                                                           | 1895/8360 [00:03<00:13, 483.79it/s]"
     ]
    },
    {
     "name": "stdout",
     "output_type": "stream",
     "text": [
      "Error processing D:\\Progress\\MRI\\spinaldisease_lumbartrain150_datasets\\lumbar_train150\\study131\\image55.dcm: Exception thrown in SimpleITK ImageFileReader_ReadImageInformation: D:\\a\\SimpleITK\\SimpleITK\\Code\\IO\\src\\sitkImageReaderBase.cxx:99:\n",
      "sitk::ERROR: Unable to determine ImageIO reader for \"D:\\Progress\\MRI\\spinaldisease_lumbartrain150_datasets\\lumbar_train150\\study131\\image55.dcm\"\n",
      "Error processing D:\\Progress\\MRI\\spinaldisease_lumbartrain150_datasets\\lumbar_train150\\study131\\image56.dcm: Exception thrown in SimpleITK ImageFileReader_ReadImageInformation: D:\\a\\SimpleITK\\SimpleITK\\Code\\IO\\src\\sitkImageReaderBase.cxx:99:\n",
      "sitk::ERROR: Unable to determine ImageIO reader for \"D:\\Progress\\MRI\\spinaldisease_lumbartrain150_datasets\\lumbar_train150\\study131\\image56.dcm\"\n"
     ]
    },
    {
     "name": "stderr",
     "output_type": "stream",
     "text": [
      " 24%|██████████████████▊                                                          | 2037/8360 [00:03<00:14, 439.65it/s]"
     ]
    },
    {
     "name": "stdout",
     "output_type": "stream",
     "text": [
      "Error processing D:\\Progress\\MRI\\spinaldisease_lumbartrain150_datasets\\lumbar_train150\\study133\\image68.dcm: Exception thrown in SimpleITK ImageFileReader_ReadImageInformation: D:\\a\\SimpleITK\\SimpleITK\\Code\\IO\\src\\sitkImageReaderBase.cxx:99:\n",
      "sitk::ERROR: Unable to determine ImageIO reader for \"D:\\Progress\\MRI\\spinaldisease_lumbartrain150_datasets\\lumbar_train150\\study133\\image68.dcm\"\n",
      "Error processing D:\\Progress\\MRI\\spinaldisease_lumbartrain150_datasets\\lumbar_train150\\study133\\image69.dcm: Exception thrown in SimpleITK ImageFileReader_ReadImageInformation: D:\\a\\SimpleITK\\SimpleITK\\Code\\IO\\src\\sitkImageReaderBase.cxx:99:\n",
      "sitk::ERROR: Unable to determine ImageIO reader for \"D:\\Progress\\MRI\\spinaldisease_lumbartrain150_datasets\\lumbar_train150\\study133\\image69.dcm\"\n",
      "Error processing D:\\Progress\\MRI\\spinaldisease_lumbartrain150_datasets\\lumbar_train150\\study133\\image70.dcm: Exception thrown in SimpleITK ImageFileReader_ReadImageInformation: D:\\a\\SimpleITK\\SimpleITK\\Code\\IO\\src\\sitkImageReaderBase.cxx:99:\n",
      "sitk::ERROR: Unable to determine ImageIO reader for \"D:\\Progress\\MRI\\spinaldisease_lumbartrain150_datasets\\lumbar_train150\\study133\\image70.dcm\"\n"
     ]
    },
    {
     "name": "stderr",
     "output_type": "stream",
     "text": [
      " 26%|███████████████████▉                                                         | 2170/8360 [00:04<00:14, 423.36it/s]"
     ]
    },
    {
     "name": "stdout",
     "output_type": "stream",
     "text": [
      "Error processing D:\\Progress\\MRI\\spinaldisease_lumbartrain150_datasets\\lumbar_train150\\study135\\image70.dcm: Exception thrown in SimpleITK ImageFileReader_ReadImageInformation: D:\\a\\SimpleITK\\SimpleITK\\Code\\IO\\src\\sitkImageReaderBase.cxx:99:\n",
      "sitk::ERROR: Unable to determine ImageIO reader for \"D:\\Progress\\MRI\\spinaldisease_lumbartrain150_datasets\\lumbar_train150\\study135\\image70.dcm\"\n",
      "Error processing D:\\Progress\\MRI\\spinaldisease_lumbartrain150_datasets\\lumbar_train150\\study136\\image66.dcm: Exception thrown in SimpleITK ImageFileReader_ReadImageInformation: D:\\a\\SimpleITK\\SimpleITK\\Code\\IO\\src\\sitkImageReaderBase.cxx:99:\n",
      "sitk::ERROR: Unable to determine ImageIO reader for \"D:\\Progress\\MRI\\spinaldisease_lumbartrain150_datasets\\lumbar_train150\\study136\\image66.dcm\"\n",
      "Error processing D:\\Progress\\MRI\\spinaldisease_lumbartrain150_datasets\\lumbar_train150\\study136\\image67.dcm: Exception thrown in SimpleITK ImageFileReader_ReadImageInformation: D:\\a\\SimpleITK\\SimpleITK\\Code\\IO\\src\\sitkImageReaderBase.cxx:99:\n",
      "sitk::ERROR: Unable to determine ImageIO reader for \"D:\\Progress\\MRI\\spinaldisease_lumbartrain150_datasets\\lumbar_train150\\study136\\image67.dcm\"\n",
      "Error processing D:\\Progress\\MRI\\spinaldisease_lumbartrain150_datasets\\lumbar_train150\\study136\\image68.dcm: Exception thrown in SimpleITK ImageFileReader_ReadImageInformation: D:\\a\\SimpleITK\\SimpleITK\\Code\\IO\\src\\sitkImageReaderBase.cxx:99:\n",
      "sitk::ERROR: Unable to determine ImageIO reader for \"D:\\Progress\\MRI\\spinaldisease_lumbartrain150_datasets\\lumbar_train150\\study136\\image68.dcm\"\n"
     ]
    },
    {
     "name": "stderr",
     "output_type": "stream",
     "text": [
      " 28%|█████████████████████▊                                                       | 2371/8360 [00:04<00:12, 493.54it/s]"
     ]
    },
    {
     "name": "stdout",
     "output_type": "stream",
     "text": [
      "Error processing D:\\Progress\\MRI\\spinaldisease_lumbartrain150_datasets\\lumbar_train150\\study138\\image55.dcm: Exception thrown in SimpleITK ImageFileReader_ReadImageInformation: D:\\a\\SimpleITK\\SimpleITK\\Code\\IO\\src\\sitkImageReaderBase.cxx:99:\n",
      "sitk::ERROR: Unable to determine ImageIO reader for \"D:\\Progress\\MRI\\spinaldisease_lumbartrain150_datasets\\lumbar_train150\\study138\\image55.dcm\"\n",
      "Error processing D:\\Progress\\MRI\\spinaldisease_lumbartrain150_datasets\\lumbar_train150\\study139\\image58.dcm: Exception thrown in SimpleITK ImageFileReader_ReadImageInformation: D:\\a\\SimpleITK\\SimpleITK\\Code\\IO\\src\\sitkImageReaderBase.cxx:99:\n",
      "sitk::ERROR: Unable to determine ImageIO reader for \"D:\\Progress\\MRI\\spinaldisease_lumbartrain150_datasets\\lumbar_train150\\study139\\image58.dcm\"\n"
     ]
    },
    {
     "name": "stderr",
     "output_type": "stream",
     "text": [
      " 31%|████████████████████████▏                                                    | 2627/8360 [00:05<00:11, 482.04it/s]"
     ]
    },
    {
     "name": "stdout",
     "output_type": "stream",
     "text": [
      "Error processing D:\\Progress\\MRI\\spinaldisease_lumbartrain150_datasets\\lumbar_train150\\study143\\image44.dcm: Exception thrown in SimpleITK ImageFileReader_ReadImageInformation: D:\\a\\SimpleITK\\SimpleITK\\Code\\IO\\src\\sitkImageReaderBase.cxx:99:\n",
      "sitk::ERROR: Unable to determine ImageIO reader for \"D:\\Progress\\MRI\\spinaldisease_lumbartrain150_datasets\\lumbar_train150\\study143\\image44.dcm\"\n",
      "Error processing D:\\Progress\\MRI\\spinaldisease_lumbartrain150_datasets\\lumbar_train150\\study143\\image45.dcm: Exception thrown in SimpleITK ImageFileReader_ReadImageInformation: D:\\a\\SimpleITK\\SimpleITK\\Code\\IO\\src\\sitkImageReaderBase.cxx:99:\n",
      "sitk::ERROR: Unable to determine ImageIO reader for \"D:\\Progress\\MRI\\spinaldisease_lumbartrain150_datasets\\lumbar_train150\\study143\\image45.dcm\"\n",
      "Error processing D:\\Progress\\MRI\\spinaldisease_lumbartrain150_datasets\\lumbar_train150\\study143\\image46.dcm: Exception thrown in SimpleITK ImageFileReader_ReadImageInformation: D:\\a\\SimpleITK\\SimpleITK\\Code\\IO\\src\\sitkImageReaderBase.cxx:99:\n",
      "sitk::ERROR: Unable to determine ImageIO reader for \"D:\\Progress\\MRI\\spinaldisease_lumbartrain150_datasets\\lumbar_train150\\study143\\image46.dcm\"\n",
      "Error processing D:\\Progress\\MRI\\spinaldisease_lumbartrain150_datasets\\lumbar_train150\\study144\\image55.dcm: Exception thrown in SimpleITK ImageFileReader_ReadImageInformation: D:\\a\\SimpleITK\\SimpleITK\\Code\\IO\\src\\sitkImageReaderBase.cxx:99:\n",
      "sitk::ERROR: Unable to determine ImageIO reader for \"D:\\Progress\\MRI\\spinaldisease_lumbartrain150_datasets\\lumbar_train150\\study144\\image55.dcm\"\n"
     ]
    },
    {
     "name": "stderr",
     "output_type": "stream",
     "text": [
      " 33%|█████████████████████████▏                                                   | 2734/8360 [00:05<00:11, 500.42it/s]"
     ]
    },
    {
     "name": "stdout",
     "output_type": "stream",
     "text": [
      "Error processing D:\\Progress\\MRI\\spinaldisease_lumbartrain150_datasets\\lumbar_train150\\study145\\image70.dcm: Exception thrown in SimpleITK ImageFileReader_ReadImageInformation: D:\\a\\SimpleITK\\SimpleITK\\Code\\IO\\src\\sitkImageReaderBase.cxx:99:\n",
      "sitk::ERROR: Unable to determine ImageIO reader for \"D:\\Progress\\MRI\\spinaldisease_lumbartrain150_datasets\\lumbar_train150\\study145\\image70.dcm\"\n"
     ]
    },
    {
     "name": "stderr",
     "output_type": "stream",
     "text": [
      " 34%|██████████████████████████▏                                                  | 2840/8360 [00:05<00:10, 503.48it/s]"
     ]
    },
    {
     "name": "stdout",
     "output_type": "stream",
     "text": [
      "Error processing D:\\Progress\\MRI\\spinaldisease_lumbartrain150_datasets\\lumbar_train150\\study148\\image40.dcm: Exception thrown in SimpleITK ImageFileReader_ReadImageInformation: D:\\a\\SimpleITK\\SimpleITK\\Code\\IO\\src\\sitkImageReaderBase.cxx:99:\n",
      "sitk::ERROR: Unable to determine ImageIO reader for \"D:\\Progress\\MRI\\spinaldisease_lumbartrain150_datasets\\lumbar_train150\\study148\\image40.dcm\"\n",
      "Error processing D:\\Progress\\MRI\\spinaldisease_lumbartrain150_datasets\\lumbar_train150\\study150\\image39.dcm: Exception thrown in SimpleITK ImageFileReader_ReadImageInformation: D:\\a\\SimpleITK\\SimpleITK\\Code\\IO\\src\\sitkImageReaderBase.cxx:99:\n",
      "sitk::ERROR: Unable to determine ImageIO reader for \"D:\\Progress\\MRI\\spinaldisease_lumbartrain150_datasets\\lumbar_train150\\study150\\image39.dcm\"\n",
      "Error processing D:\\Progress\\MRI\\spinaldisease_lumbartrain150_datasets\\lumbar_train150\\study150\\image40.dcm: Exception thrown in SimpleITK ImageFileReader_ReadImageInformation: D:\\a\\SimpleITK\\SimpleITK\\Code\\IO\\src\\sitkImageReaderBase.cxx:99:\n",
      "sitk::ERROR: Unable to determine ImageIO reader for \"D:\\Progress\\MRI\\spinaldisease_lumbartrain150_datasets\\lumbar_train150\\study150\\image40.dcm\"\n",
      "Error processing D:\\Progress\\MRI\\spinaldisease_lumbartrain150_datasets\\lumbar_train150\\study150\\image41.dcm: Exception thrown in SimpleITK ImageFileReader_ReadImageInformation: D:\\a\\SimpleITK\\SimpleITK\\Code\\IO\\src\\sitkImageReaderBase.cxx:99:\n",
      "sitk::ERROR: Unable to determine ImageIO reader for \"D:\\Progress\\MRI\\spinaldisease_lumbartrain150_datasets\\lumbar_train150\\study150\\image41.dcm\"\n"
     ]
    },
    {
     "name": "stderr",
     "output_type": "stream",
     "text": [
      " 36%|███████████████████████████▋                                                 | 3005/8360 [00:05<00:10, 532.15it/s]"
     ]
    },
    {
     "name": "stdout",
     "output_type": "stream",
     "text": [
      "Error processing D:\\Progress\\MRI\\spinaldisease_lumbartrain150_datasets\\lumbar_train150\\study151\\image49.dcm: Exception thrown in SimpleITK ImageFileReader_ReadImageInformation: D:\\a\\SimpleITK\\SimpleITK\\Code\\IO\\src\\sitkImageReaderBase.cxx:99:\n",
      "sitk::ERROR: Unable to determine ImageIO reader for \"D:\\Progress\\MRI\\spinaldisease_lumbartrain150_datasets\\lumbar_train150\\study151\\image49.dcm\"\n",
      "Error processing D:\\Progress\\MRI\\spinaldisease_lumbartrain150_datasets\\lumbar_train150\\study153\\image49.dcm: Exception thrown in SimpleITK ImageFileReader_ReadImageInformation: D:\\a\\SimpleITK\\SimpleITK\\Code\\IO\\src\\sitkImageReaderBase.cxx:99:\n",
      "sitk::ERROR: Unable to determine ImageIO reader for \"D:\\Progress\\MRI\\spinaldisease_lumbartrain150_datasets\\lumbar_train150\\study153\\image49.dcm\"\n",
      "Error processing D:\\Progress\\MRI\\spinaldisease_lumbartrain150_datasets\\lumbar_train150\\study153\\image50.dcm: Exception thrown in SimpleITK ImageFileReader_ReadImageInformation: D:\\a\\SimpleITK\\SimpleITK\\Code\\IO\\src\\sitkImageReaderBase.cxx:99:\n",
      "sitk::ERROR: Unable to determine ImageIO reader for \"D:\\Progress\\MRI\\spinaldisease_lumbartrain150_datasets\\lumbar_train150\\study153\\image50.dcm\"\n"
     ]
    },
    {
     "name": "stderr",
     "output_type": "stream",
     "text": [
      " 38%|█████████████████████████████▍                                               | 3192/8360 [00:06<00:08, 585.55it/s]"
     ]
    },
    {
     "name": "stdout",
     "output_type": "stream",
     "text": [
      "Error processing D:\\Progress\\MRI\\spinaldisease_lumbartrain150_datasets\\lumbar_train150\\study155\\image61.dcm: Exception thrown in SimpleITK ImageFileReader_ReadImageInformation: D:\\a\\SimpleITK\\SimpleITK\\Code\\IO\\src\\sitkImageReaderBase.cxx:99:\n",
      "sitk::ERROR: Unable to determine ImageIO reader for \"D:\\Progress\\MRI\\spinaldisease_lumbartrain150_datasets\\lumbar_train150\\study155\\image61.dcm\"\n"
     ]
    },
    {
     "name": "stderr",
     "output_type": "stream",
     "text": [
      " 43%|████████████████████████████████▊                                            | 3559/8360 [00:07<00:10, 467.90it/s]"
     ]
    },
    {
     "name": "stdout",
     "output_type": "stream",
     "text": [
      "Error processing D:\\Progress\\MRI\\spinaldisease_lumbartrain150_datasets\\lumbar_train150\\study161\\image55.dcm: Exception thrown in SimpleITK ImageFileReader_ReadImageInformation: D:\\a\\SimpleITK\\SimpleITK\\Code\\IO\\src\\sitkImageReaderBase.cxx:99:\n",
      "sitk::ERROR: Unable to determine ImageIO reader for \"D:\\Progress\\MRI\\spinaldisease_lumbartrain150_datasets\\lumbar_train150\\study161\\image55.dcm\"\n"
     ]
    },
    {
     "name": "stderr",
     "output_type": "stream",
     "text": [
      " 45%|██████████████████████████████████▌                                          | 3755/8360 [00:07<00:09, 477.05it/s]"
     ]
    },
    {
     "name": "stdout",
     "output_type": "stream",
     "text": [
      "Error processing D:\\Progress\\MRI\\spinaldisease_lumbartrain150_datasets\\lumbar_train150\\study165\\image55.dcm: Exception thrown in SimpleITK ImageFileReader_ReadImageInformation: D:\\a\\SimpleITK\\SimpleITK\\Code\\IO\\src\\sitkImageReaderBase.cxx:99:\n",
      "sitk::ERROR: Unable to determine ImageIO reader for \"D:\\Progress\\MRI\\spinaldisease_lumbartrain150_datasets\\lumbar_train150\\study165\\image55.dcm\"\n",
      "Error processing D:\\Progress\\MRI\\spinaldisease_lumbartrain150_datasets\\lumbar_train150\\study166\\image55.dcm: Exception thrown in SimpleITK ImageFileReader_ReadImageInformation: D:\\a\\SimpleITK\\SimpleITK\\Code\\IO\\src\\sitkImageReaderBase.cxx:99:\n",
      "sitk::ERROR: Unable to determine ImageIO reader for \"D:\\Progress\\MRI\\spinaldisease_lumbartrain150_datasets\\lumbar_train150\\study166\\image55.dcm\"\n"
     ]
    },
    {
     "name": "stderr",
     "output_type": "stream",
     "text": [
      " 49%|█████████████████████████████████████▉                                       | 4124/8360 [00:08<00:08, 509.36it/s]"
     ]
    },
    {
     "name": "stdout",
     "output_type": "stream",
     "text": [
      "Error processing D:\\Progress\\MRI\\spinaldisease_lumbartrain150_datasets\\lumbar_train150\\study172\\image55.dcm: Exception thrown in SimpleITK ImageFileReader_ReadImageInformation: D:\\a\\SimpleITK\\SimpleITK\\Code\\IO\\src\\sitkImageReaderBase.cxx:99:\n",
      "sitk::ERROR: Unable to determine ImageIO reader for \"D:\\Progress\\MRI\\spinaldisease_lumbartrain150_datasets\\lumbar_train150\\study172\\image55.dcm\"\n"
     ]
    },
    {
     "name": "stderr",
     "output_type": "stream",
     "text": [
      " 51%|███████████████████████████████████████▍                                     | 4280/8360 [00:08<00:08, 501.83it/s]"
     ]
    },
    {
     "name": "stdout",
     "output_type": "stream",
     "text": [
      "Error processing D:\\Progress\\MRI\\spinaldisease_lumbartrain150_datasets\\lumbar_train150\\study174\\image55.dcm: Exception thrown in SimpleITK ImageFileReader_ReadImageInformation: D:\\a\\SimpleITK\\SimpleITK\\Code\\IO\\src\\sitkImageReaderBase.cxx:99:\n",
      "sitk::ERROR: Unable to determine ImageIO reader for \"D:\\Progress\\MRI\\spinaldisease_lumbartrain150_datasets\\lumbar_train150\\study174\\image55.dcm\"\n",
      "Error processing D:\\Progress\\MRI\\spinaldisease_lumbartrain150_datasets\\lumbar_train150\\study174\\image56.dcm: Exception thrown in SimpleITK ImageFileReader_ReadImageInformation: D:\\a\\SimpleITK\\SimpleITK\\Code\\IO\\src\\sitkImageReaderBase.cxx:99:\n",
      "sitk::ERROR: Unable to determine ImageIO reader for \"D:\\Progress\\MRI\\spinaldisease_lumbartrain150_datasets\\lumbar_train150\\study174\\image56.dcm\"\n",
      "Error processing D:\\Progress\\MRI\\spinaldisease_lumbartrain150_datasets\\lumbar_train150\\study174\\image57.dcm: Exception thrown in SimpleITK ImageFileReader_ReadImageInformation: D:\\a\\SimpleITK\\SimpleITK\\Code\\IO\\src\\sitkImageReaderBase.cxx:99:\n",
      "sitk::ERROR: Unable to determine ImageIO reader for \"D:\\Progress\\MRI\\spinaldisease_lumbartrain150_datasets\\lumbar_train150\\study174\\image57.dcm\"\n"
     ]
    },
    {
     "name": "stderr",
     "output_type": "stream",
     "text": [
      " 56%|██████████████████████████████████████████▉                                  | 4657/8360 [00:09<00:07, 479.02it/s]"
     ]
    },
    {
     "name": "stdout",
     "output_type": "stream",
     "text": [
      "Error processing D:\\Progress\\MRI\\spinaldisease_lumbartrain150_datasets\\lumbar_train150\\study181\\image70.dcm: Exception thrown in SimpleITK ImageFileReader_ReadImageInformation: D:\\a\\SimpleITK\\SimpleITK\\Code\\IO\\src\\sitkImageReaderBase.cxx:99:\n",
      "sitk::ERROR: Unable to determine ImageIO reader for \"D:\\Progress\\MRI\\spinaldisease_lumbartrain150_datasets\\lumbar_train150\\study181\\image70.dcm\"\n",
      "Error processing D:\\Progress\\MRI\\spinaldisease_lumbartrain150_datasets\\lumbar_train150\\study182\\image60.dcm: Exception thrown in SimpleITK ImageFileReader_ReadImageInformation: D:\\a\\SimpleITK\\SimpleITK\\Code\\IO\\src\\sitkImageReaderBase.cxx:99:\n",
      "sitk::ERROR: Unable to determine ImageIO reader for \"D:\\Progress\\MRI\\spinaldisease_lumbartrain150_datasets\\lumbar_train150\\study182\\image60.dcm\"\n"
     ]
    },
    {
     "name": "stderr",
     "output_type": "stream",
     "text": [
      " 63%|████████████████████████████████████████████████▎                            | 5252/8360 [00:10<00:06, 463.09it/s]"
     ]
    },
    {
     "name": "stdout",
     "output_type": "stream",
     "text": [
      "Error processing D:\\Progress\\MRI\\spinaldisease_lumbartrain150_datasets\\lumbar_train150\\study191\\image61.dcm: Exception thrown in SimpleITK ImageFileReader_ReadImageInformation: D:\\a\\SimpleITK\\SimpleITK\\Code\\IO\\src\\sitkImageReaderBase.cxx:99:\n",
      "sitk::ERROR: Unable to determine ImageIO reader for \"D:\\Progress\\MRI\\spinaldisease_lumbartrain150_datasets\\lumbar_train150\\study191\\image61.dcm\"\n"
     ]
    },
    {
     "name": "stderr",
     "output_type": "stream",
     "text": [
      " 64%|█████████████████████████████████████████████████▎                           | 5356/8360 [00:10<00:06, 486.83it/s]"
     ]
    },
    {
     "name": "stdout",
     "output_type": "stream",
     "text": [
      "Error processing D:\\Progress\\MRI\\spinaldisease_lumbartrain150_datasets\\lumbar_train150\\study194\\image16.dcm: Exception thrown in SimpleITK ImageFileReader_ReadImageInformation: D:\\a\\SimpleITK\\SimpleITK\\Code\\IO\\src\\sitkImageReaderBase.cxx:99:\n",
      "sitk::ERROR: Unable to determine ImageIO reader for \"D:\\Progress\\MRI\\spinaldisease_lumbartrain150_datasets\\lumbar_train150\\study194\\image16.dcm\"\n",
      "Error processing D:\\Progress\\MRI\\spinaldisease_lumbartrain150_datasets\\lumbar_train150\\study194\\image30.dcm: Exception thrown in SimpleITK ImageFileReader_ReadImageInformation: D:\\a\\SimpleITK\\SimpleITK\\Code\\IO\\src\\sitkImageReaderBase.cxx:99:\n",
      "sitk::ERROR: Unable to determine ImageIO reader for \"D:\\Progress\\MRI\\spinaldisease_lumbartrain150_datasets\\lumbar_train150\\study194\\image30.dcm\"\n",
      "Error processing D:\\Progress\\MRI\\spinaldisease_lumbartrain150_datasets\\lumbar_train150\\study194\\image44.dcm: Exception thrown in SimpleITK ImageFileReader_ReadImageInformation: D:\\a\\SimpleITK\\SimpleITK\\Code\\IO\\src\\sitkImageReaderBase.cxx:99:\n",
      "sitk::ERROR: Unable to determine ImageIO reader for \"D:\\Progress\\MRI\\spinaldisease_lumbartrain150_datasets\\lumbar_train150\\study194\\image44.dcm\"\n",
      "Error processing D:\\Progress\\MRI\\spinaldisease_lumbartrain150_datasets\\lumbar_train150\\study194\\image58.dcm: Exception thrown in SimpleITK ImageFileReader_ReadImageInformation: D:\\a\\SimpleITK\\SimpleITK\\Code\\IO\\src\\sitkImageReaderBase.cxx:99:\n",
      "sitk::ERROR: Unable to determine ImageIO reader for \"D:\\Progress\\MRI\\spinaldisease_lumbartrain150_datasets\\lumbar_train150\\study194\\image58.dcm\"\n",
      "Error processing D:\\Progress\\MRI\\spinaldisease_lumbartrain150_datasets\\lumbar_train150\\study194\\image68.dcm: Exception thrown in SimpleITK ImageFileReader_ReadImageInformation: D:\\a\\SimpleITK\\SimpleITK\\Code\\IO\\src\\sitkImageReaderBase.cxx:99:\n",
      "sitk::ERROR: Unable to determine ImageIO reader for \"D:\\Progress\\MRI\\spinaldisease_lumbartrain150_datasets\\lumbar_train150\\study194\\image68.dcm\"\n"
     ]
    },
    {
     "name": "stderr",
     "output_type": "stream",
     "text": [
      " 65%|██████████████████████████████████████████████████▎                          | 5462/8360 [00:11<00:05, 493.47it/s]"
     ]
    },
    {
     "name": "stdout",
     "output_type": "stream",
     "text": [
      "Error processing D:\\Progress\\MRI\\spinaldisease_lumbartrain150_datasets\\lumbar_train150\\study195\\image49.dcm: Exception thrown in SimpleITK ImageFileReader_ReadImageInformation: D:\\a\\SimpleITK\\SimpleITK\\Code\\IO\\src\\sitkImageReaderBase.cxx:99:\n",
      "sitk::ERROR: Unable to determine ImageIO reader for \"D:\\Progress\\MRI\\spinaldisease_lumbartrain150_datasets\\lumbar_train150\\study195\\image49.dcm\"\n",
      "Error processing D:\\Progress\\MRI\\spinaldisease_lumbartrain150_datasets\\lumbar_train150\\study196\\image44.dcm: Exception thrown in SimpleITK ImageFileReader_ReadImageInformation: D:\\a\\SimpleITK\\SimpleITK\\Code\\IO\\src\\sitkImageReaderBase.cxx:99:\n",
      "sitk::ERROR: Unable to determine ImageIO reader for \"D:\\Progress\\MRI\\spinaldisease_lumbartrain150_datasets\\lumbar_train150\\study196\\image44.dcm\"\n"
     ]
    },
    {
     "name": "stderr",
     "output_type": "stream",
     "text": [
      " 68%|████████████████████████████████████████████████████▎                        | 5676/8360 [00:11<00:05, 504.29it/s]"
     ]
    },
    {
     "name": "stdout",
     "output_type": "stream",
     "text": [
      "Error processing D:\\Progress\\MRI\\spinaldisease_lumbartrain150_datasets\\lumbar_train150\\study200\\image57.dcm: Exception thrown in SimpleITK ImageFileReader_ReadImageInformation: D:\\a\\SimpleITK\\SimpleITK\\Code\\IO\\src\\sitkImageReaderBase.cxx:99:\n",
      "sitk::ERROR: Unable to determine ImageIO reader for \"D:\\Progress\\MRI\\spinaldisease_lumbartrain150_datasets\\lumbar_train150\\study200\\image57.dcm\"\n"
     ]
    },
    {
     "name": "stderr",
     "output_type": "stream",
     "text": [
      " 71%|██████████████████████████████████████████████████████▊                      | 5947/8360 [00:12<00:04, 501.70it/s]"
     ]
    },
    {
     "name": "stdout",
     "output_type": "stream",
     "text": [
      "Error processing D:\\Progress\\MRI\\spinaldisease_lumbartrain150_datasets\\lumbar_train150\\study55\\image85.dcm: Exception thrown in SimpleITK ImageFileReader_ReadImageInformation: D:\\a\\SimpleITK\\SimpleITK\\Code\\IO\\src\\sitkImageReaderBase.cxx:99:\n",
      "sitk::ERROR: Unable to determine ImageIO reader for \"D:\\Progress\\MRI\\spinaldisease_lumbartrain150_datasets\\lumbar_train150\\study55\\image85.dcm\"\n",
      "Error processing D:\\Progress\\MRI\\spinaldisease_lumbartrain150_datasets\\lumbar_train150\\study55\\image86.dcm: Exception thrown in SimpleITK ImageFileReader_ReadImageInformation: D:\\a\\SimpleITK\\SimpleITK\\Code\\IO\\src\\sitkImageReaderBase.cxx:99:\n",
      "sitk::ERROR: Unable to determine ImageIO reader for \"D:\\Progress\\MRI\\spinaldisease_lumbartrain150_datasets\\lumbar_train150\\study55\\image86.dcm\"\n",
      "Error processing D:\\Progress\\MRI\\spinaldisease_lumbartrain150_datasets\\lumbar_train150\\study55\\image87.dcm: Exception thrown in SimpleITK ImageFileReader_ReadImageInformation: D:\\a\\SimpleITK\\SimpleITK\\Code\\IO\\src\\sitkImageReaderBase.cxx:99:\n",
      "sitk::ERROR: Unable to determine ImageIO reader for \"D:\\Progress\\MRI\\spinaldisease_lumbartrain150_datasets\\lumbar_train150\\study55\\image87.dcm\"\n",
      "Error processing D:\\Progress\\MRI\\spinaldisease_lumbartrain150_datasets\\lumbar_train150\\study55\\image88.dcm: Exception thrown in SimpleITK ImageFileReader_ReadImageInformation: D:\\a\\SimpleITK\\SimpleITK\\Code\\IO\\src\\sitkImageReaderBase.cxx:99:\n",
      "sitk::ERROR: Unable to determine ImageIO reader for \"D:\\Progress\\MRI\\spinaldisease_lumbartrain150_datasets\\lumbar_train150\\study55\\image88.dcm\"\n",
      "Error processing D:\\Progress\\MRI\\spinaldisease_lumbartrain150_datasets\\lumbar_train150\\study55\\image89.dcm: Exception thrown in SimpleITK ImageFileReader_ReadImageInformation: D:\\a\\SimpleITK\\SimpleITK\\Code\\IO\\src\\sitkImageReaderBase.cxx:99:\n",
      "sitk::ERROR: Unable to determine ImageIO reader for \"D:\\Progress\\MRI\\spinaldisease_lumbartrain150_datasets\\lumbar_train150\\study55\\image89.dcm\"\n",
      "Error processing D:\\Progress\\MRI\\spinaldisease_lumbartrain150_datasets\\lumbar_train150\\study55\\image90.dcm: Exception thrown in SimpleITK ImageFileReader_ReadImageInformation: D:\\a\\SimpleITK\\SimpleITK\\Code\\IO\\src\\sitkImageReaderBase.cxx:99:\n",
      "sitk::ERROR: Unable to determine ImageIO reader for \"D:\\Progress\\MRI\\spinaldisease_lumbartrain150_datasets\\lumbar_train150\\study55\\image90.dcm\"\n",
      "Error processing D:\\Progress\\MRI\\spinaldisease_lumbartrain150_datasets\\lumbar_train150\\study56\\image55.dcm: Exception thrown in SimpleITK ImageFileReader_ReadImageInformation: D:\\a\\SimpleITK\\SimpleITK\\Code\\IO\\src\\sitkImageReaderBase.cxx:99:\n",
      "sitk::ERROR: Unable to determine ImageIO reader for \"D:\\Progress\\MRI\\spinaldisease_lumbartrain150_datasets\\lumbar_train150\\study56\\image55.dcm\"\n"
     ]
    },
    {
     "name": "stderr",
     "output_type": "stream",
     "text": [
      " 73%|████████████████████████████████████████████████████████▎                    | 6109/8360 [00:12<00:04, 524.28it/s]"
     ]
    },
    {
     "name": "stdout",
     "output_type": "stream",
     "text": [
      "Error processing D:\\Progress\\MRI\\spinaldisease_lumbartrain150_datasets\\lumbar_train150\\study58\\image55.dcm: Exception thrown in SimpleITK ImageFileReader_ReadImageInformation: D:\\a\\SimpleITK\\SimpleITK\\Code\\IO\\src\\sitkImageReaderBase.cxx:99:\n",
      "sitk::ERROR: Unable to determine ImageIO reader for \"D:\\Progress\\MRI\\spinaldisease_lumbartrain150_datasets\\lumbar_train150\\study58\\image55.dcm\"\n"
     ]
    },
    {
     "name": "stderr",
     "output_type": "stream",
     "text": [
      " 75%|██████████████████████████████████████████████████████████                   | 6306/8360 [00:12<00:05, 384.13it/s]"
     ]
    },
    {
     "name": "stdout",
     "output_type": "stream",
     "text": [
      "Error processing D:\\Progress\\MRI\\spinaldisease_lumbartrain150_datasets\\lumbar_train150\\study63\\image40.dcm: Exception thrown in SimpleITK ImageFileReader_ReadImageInformation: D:\\a\\SimpleITK\\SimpleITK\\Code\\IO\\src\\sitkImageReaderBase.cxx:99:\n",
      "sitk::ERROR: Unable to determine ImageIO reader for \"D:\\Progress\\MRI\\spinaldisease_lumbartrain150_datasets\\lumbar_train150\\study63\\image40.dcm\"\n",
      "Error processing D:\\Progress\\MRI\\spinaldisease_lumbartrain150_datasets\\lumbar_train150\\study63\\image41.dcm: Exception thrown in SimpleITK ImageFileReader_ReadImageInformation: D:\\a\\SimpleITK\\SimpleITK\\Code\\IO\\src\\sitkImageReaderBase.cxx:99:\n",
      "sitk::ERROR: Unable to determine ImageIO reader for \"D:\\Progress\\MRI\\spinaldisease_lumbartrain150_datasets\\lumbar_train150\\study63\\image41.dcm\"\n",
      "Error processing D:\\Progress\\MRI\\spinaldisease_lumbartrain150_datasets\\lumbar_train150\\study63\\image42.dcm: Exception thrown in SimpleITK ImageFileReader_ReadImageInformation: D:\\a\\SimpleITK\\SimpleITK\\Code\\IO\\src\\sitkImageReaderBase.cxx:99:\n",
      "sitk::ERROR: Unable to determine ImageIO reader for \"D:\\Progress\\MRI\\spinaldisease_lumbartrain150_datasets\\lumbar_train150\\study63\\image42.dcm\"\n",
      "Error processing D:\\Progress\\MRI\\spinaldisease_lumbartrain150_datasets\\lumbar_train150\\study63\\image43.dcm: Exception thrown in SimpleITK ImageFileReader_ReadImageInformation: D:\\a\\SimpleITK\\SimpleITK\\Code\\IO\\src\\sitkImageReaderBase.cxx:99:\n",
      "sitk::ERROR: Unable to determine ImageIO reader for \"D:\\Progress\\MRI\\spinaldisease_lumbartrain150_datasets\\lumbar_train150\\study63\\image43.dcm\"\n"
     ]
    },
    {
     "name": "stderr",
     "output_type": "stream",
     "text": [
      " 77%|███████████████████████████████████████████████████████████▍                 | 6453/8360 [00:13<00:05, 335.60it/s]"
     ]
    },
    {
     "name": "stdout",
     "output_type": "stream",
     "text": [
      "Error processing D:\\Progress\\MRI\\spinaldisease_lumbartrain150_datasets\\lumbar_train150\\study65\\image49.dcm: Exception thrown in SimpleITK ImageFileReader_ReadImageInformation: D:\\a\\SimpleITK\\SimpleITK\\Code\\IO\\src\\sitkImageReaderBase.cxx:99:\n",
      "sitk::ERROR: Unable to determine ImageIO reader for \"D:\\Progress\\MRI\\spinaldisease_lumbartrain150_datasets\\lumbar_train150\\study65\\image49.dcm\"\n"
     ]
    },
    {
     "name": "stderr",
     "output_type": "stream",
     "text": [
      " 78%|████████████████████████████████████████████████████████████▍                | 6559/8360 [00:13<00:05, 332.79it/s]"
     ]
    },
    {
     "name": "stdout",
     "output_type": "stream",
     "text": [
      "Error processing D:\\Progress\\MRI\\spinaldisease_lumbartrain150_datasets\\lumbar_train150\\study67\\image55.dcm: Exception thrown in SimpleITK ImageFileReader_ReadImageInformation: D:\\a\\SimpleITK\\SimpleITK\\Code\\IO\\src\\sitkImageReaderBase.cxx:99:\n",
      "sitk::ERROR: Unable to determine ImageIO reader for \"D:\\Progress\\MRI\\spinaldisease_lumbartrain150_datasets\\lumbar_train150\\study67\\image55.dcm\"\n",
      "Error processing D:\\Progress\\MRI\\spinaldisease_lumbartrain150_datasets\\lumbar_train150\\study68\\image55.dcm: Exception thrown in SimpleITK ImageFileReader_ReadImageInformation: D:\\a\\SimpleITK\\SimpleITK\\Code\\IO\\src\\sitkImageReaderBase.cxx:99:\n",
      "sitk::ERROR: Unable to determine ImageIO reader for \"D:\\Progress\\MRI\\spinaldisease_lumbartrain150_datasets\\lumbar_train150\\study68\\image55.dcm\"\n"
     ]
    },
    {
     "name": "stderr",
     "output_type": "stream",
     "text": [
      " 82%|██████████████████████████████████████████████████████████████▉              | 6838/8360 [00:14<00:03, 462.54it/s]"
     ]
    },
    {
     "name": "stdout",
     "output_type": "stream",
     "text": [
      "Error processing D:\\Progress\\MRI\\spinaldisease_lumbartrain150_datasets\\lumbar_train150\\study71\\image66.dcm: Exception thrown in SimpleITK ImageFileReader_ReadImageInformation: D:\\a\\SimpleITK\\SimpleITK\\Code\\IO\\src\\sitkImageReaderBase.cxx:99:\n",
      "sitk::ERROR: Unable to determine ImageIO reader for \"D:\\Progress\\MRI\\spinaldisease_lumbartrain150_datasets\\lumbar_train150\\study71\\image66.dcm\"\n",
      "Error processing D:\\Progress\\MRI\\spinaldisease_lumbartrain150_datasets\\lumbar_train150\\study71\\image67.dcm: Exception thrown in SimpleITK ImageFileReader_ReadImageInformation: D:\\a\\SimpleITK\\SimpleITK\\Code\\IO\\src\\sitkImageReaderBase.cxx:99:\n",
      "sitk::ERROR: Unable to determine ImageIO reader for \"D:\\Progress\\MRI\\spinaldisease_lumbartrain150_datasets\\lumbar_train150\\study71\\image67.dcm\"\n",
      "Error processing D:\\Progress\\MRI\\spinaldisease_lumbartrain150_datasets\\lumbar_train150\\study72\\image52.dcm: Exception thrown in SimpleITK ImageFileReader_ReadImageInformation: D:\\a\\SimpleITK\\SimpleITK\\Code\\IO\\src\\sitkImageReaderBase.cxx:99:\n",
      "sitk::ERROR: Unable to determine ImageIO reader for \"D:\\Progress\\MRI\\spinaldisease_lumbartrain150_datasets\\lumbar_train150\\study72\\image52.dcm\"\n",
      "Error processing D:\\Progress\\MRI\\spinaldisease_lumbartrain150_datasets\\lumbar_train150\\study73\\image55.dcm: Exception thrown in SimpleITK ImageFileReader_ReadImageInformation: D:\\a\\SimpleITK\\SimpleITK\\Code\\IO\\src\\sitkImageReaderBase.cxx:99:\n",
      "sitk::ERROR: Unable to determine ImageIO reader for \"D:\\Progress\\MRI\\spinaldisease_lumbartrain150_datasets\\lumbar_train150\\study73\\image55.dcm\"\n"
     ]
    },
    {
     "name": "stderr",
     "output_type": "stream",
     "text": [
      " 85%|█████████████████████████████████████████████████████████████████▍           | 7101/8360 [00:14<00:02, 484.81it/s]"
     ]
    },
    {
     "name": "stdout",
     "output_type": "stream",
     "text": [
      "Error processing D:\\Progress\\MRI\\spinaldisease_lumbartrain150_datasets\\lumbar_train150\\study76\\image77.dcm: Exception thrown in SimpleITK ImageFileReader_ReadImageInformation: D:\\a\\SimpleITK\\SimpleITK\\Code\\IO\\src\\sitkImageReaderBase.cxx:99:\n",
      "sitk::ERROR: Unable to determine ImageIO reader for \"D:\\Progress\\MRI\\spinaldisease_lumbartrain150_datasets\\lumbar_train150\\study76\\image77.dcm\"\n"
     ]
    },
    {
     "name": "stderr",
     "output_type": "stream",
     "text": [
      " 87%|██████████████████████████████████████████████████████████████████▉          | 7264/8360 [00:15<00:02, 524.68it/s]"
     ]
    },
    {
     "name": "stdout",
     "output_type": "stream",
     "text": [
      "Error processing D:\\Progress\\MRI\\spinaldisease_lumbartrain150_datasets\\lumbar_train150\\study78\\image59.dcm: Exception thrown in SimpleITK ImageFileReader_ReadImageInformation: D:\\a\\SimpleITK\\SimpleITK\\Code\\IO\\src\\sitkImageReaderBase.cxx:99:\n",
      "sitk::ERROR: Unable to determine ImageIO reader for \"D:\\Progress\\MRI\\spinaldisease_lumbartrain150_datasets\\lumbar_train150\\study78\\image59.dcm\"\n",
      "Error processing D:\\Progress\\MRI\\spinaldisease_lumbartrain150_datasets\\lumbar_train150\\study78\\image60.dcm: Exception thrown in SimpleITK ImageFileReader_ReadImageInformation: D:\\a\\SimpleITK\\SimpleITK\\Code\\IO\\src\\sitkImageReaderBase.cxx:99:\n",
      "sitk::ERROR: Unable to determine ImageIO reader for \"D:\\Progress\\MRI\\spinaldisease_lumbartrain150_datasets\\lumbar_train150\\study78\\image60.dcm\"\n",
      "Error processing D:\\Progress\\MRI\\spinaldisease_lumbartrain150_datasets\\lumbar_train150\\study78\\image61.dcm: Exception thrown in SimpleITK ImageFileReader_ReadImageInformation: D:\\a\\SimpleITK\\SimpleITK\\Code\\IO\\src\\sitkImageReaderBase.cxx:99:\n",
      "sitk::ERROR: Unable to determine ImageIO reader for \"D:\\Progress\\MRI\\spinaldisease_lumbartrain150_datasets\\lumbar_train150\\study78\\image61.dcm\"\n"
     ]
    },
    {
     "name": "stderr",
     "output_type": "stream",
     "text": [
      " 91%|█████████████████████████████████████████████████████████████████████▊       | 7586/8360 [00:15<00:01, 516.39it/s]"
     ]
    },
    {
     "name": "stdout",
     "output_type": "stream",
     "text": [
      "Error processing D:\\Progress\\MRI\\spinaldisease_lumbartrain150_datasets\\lumbar_train150\\study85\\image55.dcm: Exception thrown in SimpleITK ImageFileReader_ReadImageInformation: D:\\a\\SimpleITK\\SimpleITK\\Code\\IO\\src\\sitkImageReaderBase.cxx:99:\n",
      "sitk::ERROR: Unable to determine ImageIO reader for \"D:\\Progress\\MRI\\spinaldisease_lumbartrain150_datasets\\lumbar_train150\\study85\\image55.dcm\"\n",
      "Error processing D:\\Progress\\MRI\\spinaldisease_lumbartrain150_datasets\\lumbar_train150\\study87\\image44.dcm: Exception thrown in SimpleITK ImageFileReader_ReadImageInformation: D:\\a\\SimpleITK\\SimpleITK\\Code\\IO\\src\\sitkImageReaderBase.cxx:99:\n",
      "sitk::ERROR: Unable to determine ImageIO reader for \"D:\\Progress\\MRI\\spinaldisease_lumbartrain150_datasets\\lumbar_train150\\study87\\image44.dcm\"\n"
     ]
    },
    {
     "name": "stderr",
     "output_type": "stream",
     "text": [
      " 93%|███████████████████████████████████████████████████████████████████████▊     | 7799/8360 [00:16<00:01, 517.74it/s]"
     ]
    },
    {
     "name": "stdout",
     "output_type": "stream",
     "text": [
      "Error processing D:\\Progress\\MRI\\spinaldisease_lumbartrain150_datasets\\lumbar_train150\\study89\\image61.dcm: Exception thrown in SimpleITK ImageFileReader_ReadImageInformation: D:\\a\\SimpleITK\\SimpleITK\\Code\\IO\\src\\sitkImageReaderBase.cxx:99:\n",
      "sitk::ERROR: Unable to determine ImageIO reader for \"D:\\Progress\\MRI\\spinaldisease_lumbartrain150_datasets\\lumbar_train150\\study89\\image61.dcm\"\n"
     ]
    },
    {
     "name": "stderr",
     "output_type": "stream",
     "text": [
      " 96%|█████████████████████████████████████████████████████████████████████████▊   | 8010/8360 [00:16<00:00, 489.87it/s]"
     ]
    },
    {
     "name": "stdout",
     "output_type": "stream",
     "text": [
      "Error processing D:\\Progress\\MRI\\spinaldisease_lumbartrain150_datasets\\lumbar_train150\\study93\\image66.dcm: Exception thrown in SimpleITK ImageFileReader_ReadImageInformation: D:\\a\\SimpleITK\\SimpleITK\\Code\\IO\\src\\sitkImageReaderBase.cxx:99:\n",
      "sitk::ERROR: Unable to determine ImageIO reader for \"D:\\Progress\\MRI\\spinaldisease_lumbartrain150_datasets\\lumbar_train150\\study93\\image66.dcm\"\n"
     ]
    },
    {
     "name": "stderr",
     "output_type": "stream",
     "text": [
      "100%|████████████████████████████████████████████████████████████████████████████▊| 8344/8360 [00:17<00:00, 354.54it/s]"
     ]
    },
    {
     "name": "stdout",
     "output_type": "stream",
     "text": [
      "Error processing D:\\Progress\\MRI\\spinaldisease_lumbartrain150_datasets\\lumbar_train150\\study98\\image66.dcm: Exception thrown in SimpleITK ImageFileReader_ReadImageInformation: D:\\a\\SimpleITK\\SimpleITK\\Code\\IO\\src\\sitkImageReaderBase.cxx:99:\n",
      "sitk::ERROR: Unable to determine ImageIO reader for \"D:\\Progress\\MRI\\spinaldisease_lumbartrain150_datasets\\lumbar_train150\\study98\\image66.dcm\"\n",
      "Error processing D:\\Progress\\MRI\\spinaldisease_lumbartrain150_datasets\\lumbar_train150\\study99\\image55.dcm: Exception thrown in SimpleITK ImageFileReader_ReadImageInformation: D:\\a\\SimpleITK\\SimpleITK\\Code\\IO\\src\\sitkImageReaderBase.cxx:99:\n",
      "sitk::ERROR: Unable to determine ImageIO reader for \"D:\\Progress\\MRI\\spinaldisease_lumbartrain150_datasets\\lumbar_train150\\study99\\image55.dcm\"\n"
     ]
    },
    {
     "name": "stderr",
     "output_type": "stream",
     "text": [
      "100%|█████████████████████████████████████████████████████████████████████████████| 8360/8360 [00:17<00:00, 476.69it/s]\n"
     ]
    },
    {
     "name": "stdout",
     "output_type": "stream",
     "text": [
      "Processing DICOM files...\n"
     ]
    },
    {
     "name": "stderr",
     "output_type": "stream",
     "text": [
      "100%|██████████████████████████████████████████████████████████████████████████████| 2826/2826 [00:49<00:00, 56.57it/s]"
     ]
    },
    {
     "name": "stdout",
     "output_type": "stream",
     "text": [
      "\n",
      "Dataset Analysis:\n",
      "Total samples: 150\n",
      "Total valids: 51\n"
     ]
    },
    {
     "name": "stderr",
     "output_type": "stream",
     "text": [
      "\n"
     ]
    }
   ],
   "source": [
    "import os\n",
    "import json\n",
    "import glob\n",
    "import pandas as pd\n",
    "import SimpleITK as sitk\n",
    "import numpy as np\n",
    "import matplotlib.pyplot as plt\n",
    "from tqdm import tqdm\n",
    "\n",
    "def dicom_metainfo(dicm_path, list_tag):\n",
    "    '''\n",
    "    获取dicom的元数据信息\n",
    "    :param dicm_path: dicom文件地址\n",
    "    :param list_tag: 标记名称列表,比如['0008|0018',]\n",
    "    :return: 元数据值列表\n",
    "    '''\n",
    "    reader = sitk.ImageFileReader()\n",
    "    reader.LoadPrivateTagsOn()\n",
    "    reader.SetFileName(dicm_path)\n",
    "    reader.ReadImageInformation()\n",
    "    return [reader.GetMetaData(t) for t in list_tag]\n",
    "\n",
    "def dicom2array(dcm_path):\n",
    "    '''\n",
    "    读取dicom文件并把其转化为灰度图(np.array)\n",
    "    :param dcm_path: dicom文件\n",
    "    :return: 图像数组\n",
    "    '''\n",
    "    image_file_reader = sitk.ImageFileReader()\n",
    "    image_file_reader.SetImageIO('GDCMImageIO')\n",
    "    image_file_reader.SetFileName(dcm_path)\n",
    "    image_file_reader.ReadImageInformation()\n",
    "    image = image_file_reader.Execute()\n",
    "    \n",
    "    # 处理单通道图像\n",
    "    if image.GetNumberOfComponentsPerPixel() == 1:\n",
    "        image = sitk.RescaleIntensity(image, 0, 255)\n",
    "        if image_file_reader.GetMetaData('0028|0004').strip() == 'MONOCHROME1':\n",
    "            image = sitk.InvertIntensity(image, maximum=255)\n",
    "        image = sitk.Cast(image, sitk.sitkUInt8)\n",
    "    \n",
    "    img_x = sitk.GetArrayFromImage(image)[0]\n",
    "    return img_x\n",
    "\n",
    "def preprocess_image(img_array):\n",
    "    '''\n",
    "    预处理图像：应用窗宽窗位调整和直方图均衡化\n",
    "    :param img_array: 原始图像数组\n",
    "    :return: 预处理后的图像\n",
    "    '''\n",
    "    # 计算窗宽窗位 - 使用自适应值\n",
    "    min_val = np.percentile(img_array, 1)\n",
    "    max_val = np.percentile(img_array, 99)\n",
    "    \n",
    "    # 应用窗宽窗位\n",
    "    img_array = np.clip(img_array, min_val, max_val)\n",
    "    img_array = (img_array - min_val) / (max_val - min_val) * 255.0\n",
    "    \n",
    "    # 应用直方图均衡化\n",
    "    img_array = img_array.astype(np.uint8)\n",
    "    return img_array\n",
    "\n",
    "def match_dicom_to_annotations(train_path, json_path):\n",
    "    '''\n",
    "    将DICOM文件与标注信息匹配\n",
    "    :param train_path: 训练数据路径\n",
    "    :param json_path: 标注JSON文件路径\n",
    "    :return: 匹配结果DataFrame\n",
    "    '''\n",
    "    # 读取标注信息\n",
    "    annotation_info = pd.DataFrame(columns=('studyUid', 'seriesUid', 'instanceUid', 'annotation'))\n",
    "    with open(json_path, 'r') as f:\n",
    "        json_data = json.load(f)\n",
    "    \n",
    "    json_df = pd.DataFrame(json_data)\n",
    "    \n",
    "    for idx in json_df.index:\n",
    "        studyUid = json_df.loc[idx, \"studyUid\"]\n",
    "        seriesUid = json_df.loc[idx, \"data\"][0]['seriesUid']\n",
    "        instanceUid = json_df.loc[idx, \"data\"][0]['instanceUid']\n",
    "        annotation = json_df.loc[idx, \"data\"][0]['annotation']\n",
    "        row = pd.Series({\n",
    "            'studyUid': studyUid,\n",
    "            'seriesUid': seriesUid,\n",
    "            'instanceUid': instanceUid,\n",
    "            'annotation': annotation\n",
    "        })\n",
    "        annotation_info = pd.concat([annotation_info, row.to_frame().T], ignore_index=True)\n",
    "    \n",
    "    # 获取所有DICOM文件路径\n",
    "    dcm_paths = glob.glob(os.path.join(train_path, \"**\", \"*.dcm\"), recursive=True)\n",
    "    \n",
    "    # 提取DICOM元数据\n",
    "    tag_list = ['0020|000d', '0020|000e', '0008|0018']  # studyUid, seriesUid, instanceUid\n",
    "    dcm_info = pd.DataFrame(columns=('dcmPath', 'studyUid', 'seriesUid', 'instanceUid'))\n",
    "    \n",
    "    print(\"Processing DICOM files...\")\n",
    "    for dcm_path in tqdm(dcm_paths):\n",
    "        try:\n",
    "            studyUid, seriesUid, instanceUid = dicom_metainfo(dcm_path, tag_list)\n",
    "            row = pd.Series({\n",
    "                'dcmPath': dcm_path,\n",
    "                'studyUid': studyUid,\n",
    "                'seriesUid': seriesUid,\n",
    "                'instanceUid': instanceUid\n",
    "            })\n",
    "            dcm_info = pd.concat([dcm_info, row.to_frame().T], ignore_index=True)\n",
    "        except Exception as e:\n",
    "            print(f\"Error processing {dcm_path}: {str(e)}\")\n",
    "            continue\n",
    "    \n",
    "    # 合并标注信息和DICOM路径\n",
    "    result = pd.merge(annotation_info, dcm_info, on=['studyUid', 'seriesUid', 'instanceUid'])\n",
    "    return result\n",
    "\n",
    "\n",
    "if __name__ == \"__main__\":\n",
    "    # 配置路径\n",
    "    train_path = r\"D:\\Progress\\MRI\\spinaldisease_lumbartrain150_datasets\\lumbar_train150\"\n",
    "    json_path = r\"D:\\Progress\\MRI\\spinaldisease_lumbartrain150annotation_datasets.txt\"\n",
    "\n",
    "    # 测试集集\n",
    "    valid_path = r\"D:\\Progress\\MRI\\spinaldisease_lumbartrain51_datasets\"\n",
    "    json_valid_path = \"D:\\Progress\\MRI\\spinaldisease_lumbartrain51annotation_datasets.txt\"\n",
    "\n",
    "    \n",
    "    output_path = r\"D:\\Progress\\MRI\\output\"\n",
    "    # 1. 匹配DICOM文件与标注\n",
    "    result_df = match_dicom_to_annotations(train_path, json_path)\n",
    "    result_df.to_csv(r\"D:\\Progress\\MRI\\output\\result_150train_datasets\",index=False)\n",
    "\n",
    "    result_valid_df = match_dicom_to_annotations(valid_path, json_valid_path)\n",
    "    result_valid_df.to_csv(r\"D:\\Progress\\MRI\\output\\result_51valid_datasets\",index=False)\n",
    "    \n",
    "    # 3. 分析数据集\n",
    "    print(\"\\nDataset Analysis:\")\n",
    "    print(f\"Total samples: {len(result_df)}\\nTotal valids: {len(result_valid_df)}\")\n",
    "    "
   ]
  },
  {
   "cell_type": "code",
   "execution_count": 4,
   "id": "85d663a0-550d-4fd0-87bd-845b94a3f35b",
   "metadata": {},
   "outputs": [
    {
     "name": "stdout",
     "output_type": "stream",
     "text": [
      "Using XPU device: Intel(R) Arc(TM) A770 Graphics\n",
      "Starting spinal classification training...\n",
      "Creating datasets...\n",
      "Loaded dataset with 150 samples from D:\\Progress\\MRI\\output\\result_150train_datasets\n",
      "Loaded dataset with 51 samples from D:\\Progress\\MRI\\output\\result_51valid_datasets\n",
      "Initializing model...\n",
      "Starting training on xpu...\n"
     ]
    },
    {
     "name": "stderr",
     "output_type": "stream",
     "text": [
      "Epoch 1/50: 100%|███████████████████████████████████████████████████████████| 10/10 [00:02<00:00,  4.76it/s, loss=1.08]\n",
      "Validating: 100%|████████████████████████████████████████████████████████████████████████| 4/4 [00:01<00:00,  2.17it/s]\n"
     ]
    },
    {
     "name": "stdout",
     "output_type": "stream",
     "text": [
      "Epoch [1/50] - Time: 4.1s - Train Loss: 1.0793 - Val mAP: 0.5242 - LR: 0.001000\n"
     ]
    },
    {
     "name": "stderr",
     "output_type": "stream",
     "text": [
      "Epoch 2/50: 100%|██████████████████████████████████████████████████████████| 10/10 [00:02<00:00,  4.91it/s, loss=0.666]\n",
      "Validating: 100%|████████████████████████████████████████████████████████████████████████| 4/4 [00:01<00:00,  2.12it/s]\n"
     ]
    },
    {
     "name": "stdout",
     "output_type": "stream",
     "text": [
      "Epoch [2/50] - Time: 3.9s - Train Loss: 0.7845 - Val mAP: 0.4941 - LR: 0.001000\n"
     ]
    },
    {
     "name": "stderr",
     "output_type": "stream",
     "text": [
      "Epoch 3/50: 100%|██████████████████████████████████████████████████████████| 10/10 [00:02<00:00,  4.83it/s, loss=0.793]\n",
      "Validating: 100%|████████████████████████████████████████████████████████████████████████| 4/4 [00:01<00:00,  2.11it/s]\n"
     ]
    },
    {
     "name": "stdout",
     "output_type": "stream",
     "text": [
      "Epoch [3/50] - Time: 4.1s - Train Loss: 0.6690 - Val mAP: 0.5288 - LR: 0.001000\n"
     ]
    },
    {
     "name": "stderr",
     "output_type": "stream",
     "text": [
      "Epoch 4/50: 100%|██████████████████████████████████████████████████████████| 10/10 [00:02<00:00,  4.87it/s, loss=0.644]\n",
      "Validating: 100%|████████████████████████████████████████████████████████████████████████| 4/4 [00:01<00:00,  2.07it/s]\n"
     ]
    },
    {
     "name": "stdout",
     "output_type": "stream",
     "text": [
      "Epoch [4/50] - Time: 4.1s - Train Loss: 0.5589 - Val mAP: 0.5546 - LR: 0.001000\n"
     ]
    },
    {
     "name": "stderr",
     "output_type": "stream",
     "text": [
      "Epoch 5/50: 100%|██████████████████████████████████████████████████████████| 10/10 [00:02<00:00,  4.55it/s, loss=0.429]\n",
      "Validating: 100%|████████████████████████████████████████████████████████████████████████| 4/4 [00:01<00:00,  2.10it/s]\n"
     ]
    },
    {
     "name": "stdout",
     "output_type": "stream",
     "text": [
      "Epoch [5/50] - Time: 4.1s - Train Loss: 0.4928 - Val mAP: 0.5342 - LR: 0.000500\n"
     ]
    },
    {
     "name": "stderr",
     "output_type": "stream",
     "text": [
      "Epoch 6/50: 100%|██████████████████████████████████████████████████████████| 10/10 [00:02<00:00,  4.86it/s, loss=0.297]\n",
      "Validating: 100%|████████████████████████████████████████████████████████████████████████| 4/4 [00:01<00:00,  2.13it/s]\n"
     ]
    },
    {
     "name": "stdout",
     "output_type": "stream",
     "text": [
      "Epoch [6/50] - Time: 3.9s - Train Loss: 0.4235 - Val mAP: 0.5408 - LR: 0.000500\n"
     ]
    },
    {
     "name": "stderr",
     "output_type": "stream",
     "text": [
      "Epoch 7/50: 100%|██████████████████████████████████████████████████████████| 10/10 [00:01<00:00,  5.09it/s, loss=0.303]\n",
      "Validating: 100%|████████████████████████████████████████████████████████████████████████| 4/4 [00:01<00:00,  2.21it/s]\n"
     ]
    },
    {
     "name": "stdout",
     "output_type": "stream",
     "text": [
      "Epoch [7/50] - Time: 3.9s - Train Loss: 0.3186 - Val mAP: 0.5565 - LR: 0.000500\n"
     ]
    },
    {
     "name": "stderr",
     "output_type": "stream",
     "text": [
      "Epoch 8/50: 100%|██████████████████████████████████████████████████████████| 10/10 [00:01<00:00,  5.14it/s, loss=0.103]\n",
      "Validating: 100%|████████████████████████████████████████████████████████████████████████| 4/4 [00:01<00:00,  2.21it/s]\n"
     ]
    },
    {
     "name": "stdout",
     "output_type": "stream",
     "text": [
      "Epoch [8/50] - Time: 3.8s - Train Loss: 0.2371 - Val mAP: 0.5490 - LR: 0.000500\n"
     ]
    },
    {
     "name": "stderr",
     "output_type": "stream",
     "text": [
      "Epoch 9/50: 100%|████████████████████████████████████████████████████████████| 10/10 [00:01<00:00,  5.09it/s, loss=0.2]\n",
      "Validating: 100%|████████████████████████████████████████████████████████████████████████| 4/4 [00:01<00:00,  2.24it/s]\n"
     ]
    },
    {
     "name": "stdout",
     "output_type": "stream",
     "text": [
      "Epoch [9/50] - Time: 3.8s - Train Loss: 0.1544 - Val mAP: 0.5399 - LR: 0.000500\n"
     ]
    },
    {
     "name": "stderr",
     "output_type": "stream",
     "text": [
      "Epoch 10/50: 100%|████████████████████████████████████████████████████████| 10/10 [00:01<00:00,  5.15it/s, loss=0.0601]\n",
      "Validating: 100%|████████████████████████████████████████████████████████████████████████| 4/4 [00:01<00:00,  2.17it/s]\n"
     ]
    },
    {
     "name": "stdout",
     "output_type": "stream",
     "text": [
      "Epoch [10/50] - Time: 3.9s - Train Loss: 0.0994 - Val mAP: 0.5735 - LR: 0.000250\n"
     ]
    },
    {
     "name": "stderr",
     "output_type": "stream",
     "text": [
      "Epoch 11/50: 100%|████████████████████████████████████████████████████████| 10/10 [00:02<00:00,  4.89it/s, loss=0.0583]\n",
      "Validating: 100%|████████████████████████████████████████████████████████████████████████| 4/4 [00:01<00:00,  2.20it/s]\n"
     ]
    },
    {
     "name": "stdout",
     "output_type": "stream",
     "text": [
      "Epoch [11/50] - Time: 3.9s - Train Loss: 0.0653 - Val mAP: 0.5556 - LR: 0.000250\n"
     ]
    },
    {
     "name": "stderr",
     "output_type": "stream",
     "text": [
      "Epoch 12/50: 100%|████████████████████████████████████████████████████████| 10/10 [00:02<00:00,  4.88it/s, loss=0.0659]\n",
      "Validating: 100%|████████████████████████████████████████████████████████████████████████| 4/4 [00:02<00:00,  1.97it/s]\n"
     ]
    },
    {
     "name": "stdout",
     "output_type": "stream",
     "text": [
      "Epoch [12/50] - Time: 4.2s - Train Loss: 0.0363 - Val mAP: 0.5844 - LR: 0.000250\n"
     ]
    },
    {
     "name": "stderr",
     "output_type": "stream",
     "text": [
      "Epoch 13/50: 100%|████████████████████████████████████████████████████████| 10/10 [00:02<00:00,  4.86it/s, loss=0.0578]\n",
      "Validating: 100%|████████████████████████████████████████████████████████████████████████| 4/4 [00:01<00:00,  2.12it/s]\n"
     ]
    },
    {
     "name": "stdout",
     "output_type": "stream",
     "text": [
      "Epoch [13/50] - Time: 4.0s - Train Loss: 0.0320 - Val mAP: 0.5643 - LR: 0.000250\n"
     ]
    },
    {
     "name": "stderr",
     "output_type": "stream",
     "text": [
      "Epoch 14/50: 100%|█████████████████████████████████████████████████████████| 10/10 [00:02<00:00,  4.90it/s, loss=0.159]\n",
      "Validating: 100%|████████████████████████████████████████████████████████████████████████| 4/4 [00:01<00:00,  2.07it/s]\n"
     ]
    },
    {
     "name": "stdout",
     "output_type": "stream",
     "text": [
      "Epoch [14/50] - Time: 4.0s - Train Loss: 0.0380 - Val mAP: 0.5435 - LR: 0.000250\n"
     ]
    },
    {
     "name": "stderr",
     "output_type": "stream",
     "text": [
      "Epoch 15/50: 100%|████████████████████████████████████████████████████████| 10/10 [00:02<00:00,  4.78it/s, loss=0.0784]\n",
      "Validating: 100%|████████████████████████████████████████████████████████████████████████| 4/4 [00:01<00:00,  2.18it/s]\n"
     ]
    },
    {
     "name": "stdout",
     "output_type": "stream",
     "text": [
      "Epoch [15/50] - Time: 3.9s - Train Loss: 0.0401 - Val mAP: 0.5019 - LR: 0.000125\n"
     ]
    },
    {
     "name": "stderr",
     "output_type": "stream",
     "text": [
      "Epoch 16/50: 100%|█████████████████████████████████████████████████████████| 10/10 [00:01<00:00,  5.10it/s, loss=0.036]\n",
      "Validating: 100%|████████████████████████████████████████████████████████████████████████| 4/4 [00:01<00:00,  2.17it/s]\n"
     ]
    },
    {
     "name": "stdout",
     "output_type": "stream",
     "text": [
      "Epoch [16/50] - Time: 3.8s - Train Loss: 0.0394 - Val mAP: 0.5172 - LR: 0.000125\n"
     ]
    },
    {
     "name": "stderr",
     "output_type": "stream",
     "text": [
      "Epoch 17/50: 100%|█████████████████████████████████████████████████████████| 10/10 [00:01<00:00,  5.09it/s, loss=0.033]\n",
      "Validating: 100%|████████████████████████████████████████████████████████████████████████| 4/4 [00:01<00:00,  2.21it/s]\n"
     ]
    },
    {
     "name": "stdout",
     "output_type": "stream",
     "text": [
      "Epoch [17/50] - Time: 3.8s - Train Loss: 0.0264 - Val mAP: 0.5391 - LR: 0.000125\n"
     ]
    },
    {
     "name": "stderr",
     "output_type": "stream",
     "text": [
      "Epoch 18/50: 100%|████████████████████████████████████████████████████████| 10/10 [00:01<00:00,  5.00it/s, loss=0.0371]\n",
      "Validating: 100%|████████████████████████████████████████████████████████████████████████| 4/4 [00:01<00:00,  2.21it/s]\n"
     ]
    },
    {
     "name": "stdout",
     "output_type": "stream",
     "text": [
      "Epoch [18/50] - Time: 3.8s - Train Loss: 0.0177 - Val mAP: 0.5466 - LR: 0.000125\n"
     ]
    },
    {
     "name": "stderr",
     "output_type": "stream",
     "text": [
      "Epoch 19/50: 100%|████████████████████████████████████████████████████████| 10/10 [00:01<00:00,  5.07it/s, loss=0.0109]\n",
      "Validating: 100%|████████████████████████████████████████████████████████████████████████| 4/4 [00:01<00:00,  2.21it/s]\n"
     ]
    },
    {
     "name": "stdout",
     "output_type": "stream",
     "text": [
      "Epoch [19/50] - Time: 3.8s - Train Loss: 0.0109 - Val mAP: 0.5663 - LR: 0.000125\n"
     ]
    },
    {
     "name": "stderr",
     "output_type": "stream",
     "text": [
      "Epoch 20/50: 100%|███████████████████████████████████████████████████████| 10/10 [00:01<00:00,  5.14it/s, loss=0.00465]\n",
      "Validating: 100%|████████████████████████████████████████████████████████████████████████| 4/4 [00:01<00:00,  2.16it/s]\n"
     ]
    },
    {
     "name": "stdout",
     "output_type": "stream",
     "text": [
      "Epoch [20/50] - Time: 3.8s - Train Loss: 0.0142 - Val mAP: 0.5748 - LR: 0.000063\n"
     ]
    },
    {
     "name": "stderr",
     "output_type": "stream",
     "text": [
      "Epoch 21/50: 100%|████████████████████████████████████████████████████████| 10/10 [00:02<00:00,  4.93it/s, loss=0.0357]\n",
      "Validating: 100%|████████████████████████████████████████████████████████████████████████| 4/4 [00:01<00:00,  2.21it/s]\n"
     ]
    },
    {
     "name": "stdout",
     "output_type": "stream",
     "text": [
      "Epoch [21/50] - Time: 3.8s - Train Loss: 0.0065 - Val mAP: 0.5670 - LR: 0.000063\n"
     ]
    },
    {
     "name": "stderr",
     "output_type": "stream",
     "text": [
      "Epoch 22/50: 100%|████████████████████████████████████████████████████████| 10/10 [00:01<00:00,  5.31it/s, loss=0.0132]\n",
      "Validating: 100%|████████████████████████████████████████████████████████████████████████| 4/4 [00:01<00:00,  2.12it/s]\n"
     ]
    },
    {
     "name": "stdout",
     "output_type": "stream",
     "text": [
      "Epoch [22/50] - Time: 3.8s - Train Loss: 0.0070 - Val mAP: 0.5584 - LR: 0.000063\n"
     ]
    },
    {
     "name": "stderr",
     "output_type": "stream",
     "text": [
      "Epoch 23/50: 100%|███████████████████████████████████████████████████████| 10/10 [00:01<00:00,  5.07it/s, loss=0.00948]\n",
      "Validating: 100%|████████████████████████████████████████████████████████████████████████| 4/4 [00:01<00:00,  2.20it/s]\n"
     ]
    },
    {
     "name": "stdout",
     "output_type": "stream",
     "text": [
      "Epoch [23/50] - Time: 3.8s - Train Loss: 0.0070 - Val mAP: 0.5633 - LR: 0.000063\n"
     ]
    },
    {
     "name": "stderr",
     "output_type": "stream",
     "text": [
      "Epoch 24/50: 100%|███████████████████████████████████████████████████████| 10/10 [00:01<00:00,  5.13it/s, loss=0.00296]\n",
      "Validating: 100%|████████████████████████████████████████████████████████████████████████| 4/4 [00:01<00:00,  2.21it/s]\n"
     ]
    },
    {
     "name": "stdout",
     "output_type": "stream",
     "text": [
      "Epoch [24/50] - Time: 3.8s - Train Loss: 0.0058 - Val mAP: 0.5584 - LR: 0.000063\n"
     ]
    },
    {
     "name": "stderr",
     "output_type": "stream",
     "text": [
      "Epoch 25/50: 100%|████████████████████████████████████████████████████████| 10/10 [00:03<00:00,  2.82it/s, loss=0.0387]\n",
      "Validating: 100%|████████████████████████████████████████████████████████████████████████| 4/4 [00:01<00:00,  2.22it/s]\n"
     ]
    },
    {
     "name": "stdout",
     "output_type": "stream",
     "text": [
      "Epoch [25/50] - Time: 5.3s - Train Loss: 0.0056 - Val mAP: 0.5482 - LR: 0.000031\n"
     ]
    },
    {
     "name": "stderr",
     "output_type": "stream",
     "text": [
      "Epoch 26/50: 100%|████████████████████████████████████████████████████████| 10/10 [00:02<00:00,  4.99it/s, loss=0.0368]\n",
      "Validating: 100%|████████████████████████████████████████████████████████████████████████| 4/4 [00:01<00:00,  2.09it/s]\n"
     ]
    },
    {
     "name": "stdout",
     "output_type": "stream",
     "text": [
      "Epoch [26/50] - Time: 3.9s - Train Loss: 0.0057 - Val mAP: 0.5554 - LR: 0.000031\n"
     ]
    },
    {
     "name": "stderr",
     "output_type": "stream",
     "text": [
      "Epoch 27/50: 100%|███████████████████████████████████████████████████████| 10/10 [00:01<00:00,  5.03it/s, loss=0.00522]\n",
      "Validating: 100%|████████████████████████████████████████████████████████████████████████| 4/4 [00:01<00:00,  2.03it/s]\n"
     ]
    },
    {
     "name": "stdout",
     "output_type": "stream",
     "text": [
      "Epoch [27/50] - Time: 4.0s - Train Loss: 0.0057 - Val mAP: 0.5574 - LR: 0.000031\n"
     ]
    },
    {
     "name": "stderr",
     "output_type": "stream",
     "text": [
      "Epoch 28/50: 100%|████████████████████████████████████████████████████████| 10/10 [00:02<00:00,  4.63it/s, loss=0.0763]\n",
      "Validating: 100%|████████████████████████████████████████████████████████████████████████| 4/4 [00:01<00:00,  2.14it/s]\n"
     ]
    },
    {
     "name": "stdout",
     "output_type": "stream",
     "text": [
      "Epoch [28/50] - Time: 4.0s - Train Loss: 0.0080 - Val mAP: 0.5554 - LR: 0.000031\n"
     ]
    },
    {
     "name": "stderr",
     "output_type": "stream",
     "text": [
      "Epoch 29/50: 100%|███████████████████████████████████████████████████████| 10/10 [00:02<00:00,  4.87it/s, loss=0.00284]\n",
      "Validating: 100%|████████████████████████████████████████████████████████████████████████| 4/4 [00:01<00:00,  2.09it/s]\n"
     ]
    },
    {
     "name": "stdout",
     "output_type": "stream",
     "text": [
      "Epoch [29/50] - Time: 4.0s - Train Loss: 0.0048 - Val mAP: 0.5466 - LR: 0.000031\n"
     ]
    },
    {
     "name": "stderr",
     "output_type": "stream",
     "text": [
      "Epoch 30/50: 100%|████████████████████████████████████████████████████████| 10/10 [00:02<00:00,  4.82it/s, loss=0.0156]\n",
      "Validating: 100%|████████████████████████████████████████████████████████████████████████| 4/4 [00:01<00:00,  2.12it/s]\n"
     ]
    },
    {
     "name": "stdout",
     "output_type": "stream",
     "text": [
      "Epoch [30/50] - Time: 4.0s - Train Loss: 0.0061 - Val mAP: 0.5487 - LR: 0.000016\n"
     ]
    },
    {
     "name": "stderr",
     "output_type": "stream",
     "text": [
      "Epoch 31/50: 100%|████████████████████████████████████████████████████████| 10/10 [00:02<00:00,  4.89it/s, loss=0.0529]\n",
      "Validating: 100%|████████████████████████████████████████████████████████████████████████| 4/4 [00:01<00:00,  2.09it/s]\n"
     ]
    },
    {
     "name": "stdout",
     "output_type": "stream",
     "text": [
      "Epoch [31/50] - Time: 4.0s - Train Loss: 0.0067 - Val mAP: 0.5487 - LR: 0.000016\n"
     ]
    },
    {
     "name": "stderr",
     "output_type": "stream",
     "text": [
      "Epoch 32/50: 100%|███████████████████████████████████████████████████████| 10/10 [00:02<00:00,  4.94it/s, loss=0.00133]\n",
      "Validating: 100%|████████████████████████████████████████████████████████████████████████| 4/4 [00:01<00:00,  2.18it/s]\n"
     ]
    },
    {
     "name": "stdout",
     "output_type": "stream",
     "text": [
      "Epoch [32/50] - Time: 3.9s - Train Loss: 0.0078 - Val mAP: 0.5435 - LR: 0.000016\n"
     ]
    },
    {
     "name": "stderr",
     "output_type": "stream",
     "text": [
      "Epoch 33/50: 100%|████████████████████████████████████████████████████████| 10/10 [00:01<00:00,  5.15it/s, loss=0.0038]\n",
      "Validating: 100%|████████████████████████████████████████████████████████████████████████| 4/4 [00:01<00:00,  2.21it/s]\n"
     ]
    },
    {
     "name": "stdout",
     "output_type": "stream",
     "text": [
      "Epoch [33/50] - Time: 3.8s - Train Loss: 0.0054 - Val mAP: 0.5396 - LR: 0.000016\n"
     ]
    },
    {
     "name": "stderr",
     "output_type": "stream",
     "text": [
      "Epoch 34/50: 100%|████████████████████████████████████████████████████████| 10/10 [00:02<00:00,  4.72it/s, loss=0.0292]\n",
      "Validating: 100%|████████████████████████████████████████████████████████████████████████| 4/4 [00:01<00:00,  2.12it/s]\n"
     ]
    },
    {
     "name": "stdout",
     "output_type": "stream",
     "text": [
      "Epoch [34/50] - Time: 4.0s - Train Loss: 0.0058 - Val mAP: 0.5422 - LR: 0.000016\n"
     ]
    },
    {
     "name": "stderr",
     "output_type": "stream",
     "text": [
      "Epoch 35/50: 100%|███████████████████████████████████████████████████████| 10/10 [00:02<00:00,  4.83it/s, loss=0.00268]\n",
      "Validating: 100%|████████████████████████████████████████████████████████████████████████| 4/4 [00:01<00:00,  2.08it/s]\n"
     ]
    },
    {
     "name": "stdout",
     "output_type": "stream",
     "text": [
      "Epoch [35/50] - Time: 4.0s - Train Loss: 0.0053 - Val mAP: 0.5442 - LR: 0.000008\n"
     ]
    },
    {
     "name": "stderr",
     "output_type": "stream",
     "text": [
      "Epoch 36/50: 100%|████████████████████████████████████████████████████████| 10/10 [00:02<00:00,  4.77it/s, loss=0.0166]\n",
      "Validating: 100%|████████████████████████████████████████████████████████████████████████| 4/4 [00:01<00:00,  2.04it/s]\n"
     ]
    },
    {
     "name": "stdout",
     "output_type": "stream",
     "text": [
      "Epoch [36/50] - Time: 4.1s - Train Loss: 0.0057 - Val mAP: 0.5432 - LR: 0.000008\n"
     ]
    },
    {
     "name": "stderr",
     "output_type": "stream",
     "text": [
      "Epoch 37/50: 100%|███████████████████████████████████████████████████████| 10/10 [00:02<00:00,  4.88it/s, loss=0.00135]\n",
      "Validating: 100%|████████████████████████████████████████████████████████████████████████| 4/4 [00:01<00:00,  2.09it/s]\n"
     ]
    },
    {
     "name": "stdout",
     "output_type": "stream",
     "text": [
      "Epoch [37/50] - Time: 4.0s - Train Loss: 0.0048 - Val mAP: 0.5451 - LR: 0.000008\n"
     ]
    },
    {
     "name": "stderr",
     "output_type": "stream",
     "text": [
      "Epoch 38/50: 100%|███████████████████████████████████████████████████████| 10/10 [00:02<00:00,  4.96it/s, loss=0.00643]\n",
      "Validating: 100%|████████████████████████████████████████████████████████████████████████| 4/4 [00:01<00:00,  2.14it/s]\n"
     ]
    },
    {
     "name": "stdout",
     "output_type": "stream",
     "text": [
      "Epoch [38/50] - Time: 3.9s - Train Loss: 0.0045 - Val mAP: 0.5387 - LR: 0.000008\n"
     ]
    },
    {
     "name": "stderr",
     "output_type": "stream",
     "text": [
      "Epoch 39/50: 100%|███████████████████████████████████████████████████████| 10/10 [00:02<00:00,  4.90it/s, loss=0.00673]\n",
      "Validating: 100%|████████████████████████████████████████████████████████████████████████| 4/4 [00:01<00:00,  2.12it/s]\n"
     ]
    },
    {
     "name": "stdout",
     "output_type": "stream",
     "text": [
      "Epoch [39/50] - Time: 3.9s - Train Loss: 0.0045 - Val mAP: 0.5435 - LR: 0.000008\n"
     ]
    },
    {
     "name": "stderr",
     "output_type": "stream",
     "text": [
      "Epoch 40/50: 100%|████████████████████████████████████████████████████████| 10/10 [00:01<00:00,  5.02it/s, loss=0.0018]\n",
      "Validating: 100%|████████████████████████████████████████████████████████████████████████| 4/4 [00:01<00:00,  2.16it/s]\n"
     ]
    },
    {
     "name": "stdout",
     "output_type": "stream",
     "text": [
      "Epoch [40/50] - Time: 3.9s - Train Loss: 0.0045 - Val mAP: 0.5533 - LR: 0.000004\n"
     ]
    },
    {
     "name": "stderr",
     "output_type": "stream",
     "text": [
      "Epoch 41/50: 100%|███████████████████████████████████████████████████████| 10/10 [00:01<00:00,  5.02it/s, loss=0.00276]\n",
      "Validating: 100%|████████████████████████████████████████████████████████████████████████| 4/4 [00:01<00:00,  2.07it/s]\n"
     ]
    },
    {
     "name": "stdout",
     "output_type": "stream",
     "text": [
      "Epoch [41/50] - Time: 3.9s - Train Loss: 0.0052 - Val mAP: 0.5514 - LR: 0.000004\n"
     ]
    },
    {
     "name": "stderr",
     "output_type": "stream",
     "text": [
      "Epoch 42/50: 100%|████████████████████████████████████████████████████████| 10/10 [00:02<00:00,  4.77it/s, loss=0.0127]\n",
      "Validating: 100%|████████████████████████████████████████████████████████████████████████| 4/4 [00:01<00:00,  2.09it/s]\n"
     ]
    },
    {
     "name": "stdout",
     "output_type": "stream",
     "text": [
      "Epoch [42/50] - Time: 4.0s - Train Loss: 0.0051 - Val mAP: 0.5442 - LR: 0.000004\n"
     ]
    },
    {
     "name": "stderr",
     "output_type": "stream",
     "text": [
      "Epoch 43/50: 100%|█████████████████████████████████████████████████████████| 10/10 [00:02<00:00,  4.75it/s, loss=0.007]\n",
      "Validating: 100%|████████████████████████████████████████████████████████████████████████| 4/4 [00:01<00:00,  2.06it/s]\n"
     ]
    },
    {
     "name": "stdout",
     "output_type": "stream",
     "text": [
      "Epoch [43/50] - Time: 4.1s - Train Loss: 0.0047 - Val mAP: 0.5378 - LR: 0.000004\n"
     ]
    },
    {
     "name": "stderr",
     "output_type": "stream",
     "text": [
      "Epoch 44/50: 100%|████████████████████████████████████████████████████████| 10/10 [00:02<00:00,  4.64it/s, loss=0.0045]\n",
      "Validating: 100%|████████████████████████████████████████████████████████████████████████| 4/4 [00:01<00:00,  2.18it/s]\n"
     ]
    },
    {
     "name": "stdout",
     "output_type": "stream",
     "text": [
      "Epoch [44/50] - Time: 4.0s - Train Loss: 0.0047 - Val mAP: 0.5374 - LR: 0.000004\n"
     ]
    },
    {
     "name": "stderr",
     "output_type": "stream",
     "text": [
      "Epoch 45/50: 100%|███████████████████████████████████████████████████████| 10/10 [00:02<00:00,  4.98it/s, loss=0.00305]\n",
      "Validating: 100%|████████████████████████████████████████████████████████████████████████| 4/4 [00:01<00:00,  2.16it/s]\n"
     ]
    },
    {
     "name": "stdout",
     "output_type": "stream",
     "text": [
      "Epoch [45/50] - Time: 3.9s - Train Loss: 0.0050 - Val mAP: 0.5374 - LR: 0.000002\n"
     ]
    },
    {
     "name": "stderr",
     "output_type": "stream",
     "text": [
      "Epoch 46/50: 100%|███████████████████████████████████████████████████████| 10/10 [00:01<00:00,  5.05it/s, loss=0.00164]\n",
      "Validating: 100%|████████████████████████████████████████████████████████████████████████| 4/4 [00:01<00:00,  2.13it/s]\n"
     ]
    },
    {
     "name": "stdout",
     "output_type": "stream",
     "text": [
      "Epoch [46/50] - Time: 3.9s - Train Loss: 0.0052 - Val mAP: 0.5461 - LR: 0.000002\n"
     ]
    },
    {
     "name": "stderr",
     "output_type": "stream",
     "text": [
      "Epoch 47/50: 100%|████████████████████████████████████████████████████████| 10/10 [00:01<00:00,  5.04it/s, loss=0.0105]\n",
      "Validating: 100%|████████████████████████████████████████████████████████████████████████| 4/4 [00:01<00:00,  2.15it/s]\n"
     ]
    },
    {
     "name": "stdout",
     "output_type": "stream",
     "text": [
      "Epoch [47/50] - Time: 3.9s - Train Loss: 0.0042 - Val mAP: 0.5394 - LR: 0.000002\n"
     ]
    },
    {
     "name": "stderr",
     "output_type": "stream",
     "text": [
      "Epoch 48/50: 100%|████████████████████████████████████████████████████████| 10/10 [00:02<00:00,  4.95it/s, loss=0.0157]\n",
      "Validating: 100%|████████████████████████████████████████████████████████████████████████| 4/4 [00:01<00:00,  2.18it/s]\n"
     ]
    },
    {
     "name": "stdout",
     "output_type": "stream",
     "text": [
      "Epoch [48/50] - Time: 3.9s - Train Loss: 0.0047 - Val mAP: 0.5491 - LR: 0.000002\n"
     ]
    },
    {
     "name": "stderr",
     "output_type": "stream",
     "text": [
      "Epoch 49/50: 100%|████████████████████████████████████████████████████████| 10/10 [00:02<00:00,  4.93it/s, loss=0.0034]\n",
      "Validating: 100%|████████████████████████████████████████████████████████████████████████| 4/4 [00:01<00:00,  2.13it/s]\n"
     ]
    },
    {
     "name": "stdout",
     "output_type": "stream",
     "text": [
      "Epoch [49/50] - Time: 3.9s - Train Loss: 0.0045 - Val mAP: 0.5414 - LR: 0.000002\n"
     ]
    },
    {
     "name": "stderr",
     "output_type": "stream",
     "text": [
      "Epoch 50/50: 100%|███████████████████████████████████████████████████████| 10/10 [00:02<00:00,  4.95it/s, loss=0.00408]\n",
      "Validating: 100%|████████████████████████████████████████████████████████████████████████| 4/4 [00:01<00:00,  2.05it/s]\n"
     ]
    },
    {
     "name": "stdout",
     "output_type": "stream",
     "text": [
      "Epoch [50/50] - Time: 4.0s - Train Loss: 0.0045 - Val mAP: 0.5563 - LR: 0.000001\n",
      "\n",
      "Training completed in 225.46 seconds\n",
      "Average epoch time: 3.95 seconds\n",
      "Final training curve saved to D:\\Progress\\MRI\\output\\training_plots\\final_training_curve.png\n"
     ]
    },
    {
     "data": {
      "image/png": "[encoded data removed]",
      "text/plain": [
       "<Figure size 1200x600 with 2 Axes>"
      ]
     },
     "metadata": {},
     "output_type": "display_data"
    }
   ],
   "source": [
    "import os\n",
    "import json\n",
    "import numpy as np\n",
    "import torch\n",
    "import torch.nn as nn\n",
    "import torch.optim as optim\n",
    "from torch.utils.data import Dataset, DataLoader\n",
    "from PIL import Image\n",
    "from torchvision import transforms, models\n",
    "import matplotlib.pyplot as plt\n",
    "import pandas as pd\n",
    "from tqdm import tqdm\n",
    "import time\n",
    "import SimpleITK as sitk\n",
    "import copy\n",
    "from sklearn.metrics import average_precision_score  # 添加缺失的导入\n",
    "\n",
    "# 修正路径分隔符问题\n",
    "def fix_path(path):\n",
    "    return os.path.normpath(path)\n",
    "\n",
    "# 配置参数\n",
    "class Config:\n",
    "    train_data_csv = fix_path(r\"D:\\Progress\\MRI\\output\\result_150train_datasets\")\n",
    "    valid_data_csv = fix_path(r\"D:\\Progress\\MRI\\output\\result_51valid_datasets\")\n",
    "    \n",
    "    # 设备配置（优先使用XPU）\n",
    "    if hasattr(torch, 'xpu') and torch.xpu.is_available():\n",
    "        device = torch.device(\"xpu\")\n",
    "        print(f\"Using XPU device: {torch.xpu.get_device_name(0)}\")\n",
    "    elif torch.cuda.is_available():\n",
    "        device = torch.device(\"cuda\")\n",
    "        print(f\"Using CUDA device: {torch.cuda.get_device_name(0)}\")\n",
    "    else:\n",
    "        device = torch.device(\"cpu\")\n",
    "        print(\"Using CPU\")\n",
    "    \n",
    "    batch_size = 16\n",
    "    num_epochs = 50\n",
    "    learning_rate = 0.001\n",
    "    patch_size = 64\n",
    "    num_vertebra_classes = 2  # 正常, 退行性病变\n",
    "    num_disc_classes = 5     # 正常, 膨出, 突出, 脱出, 椎体内疝出\n",
    "    pixel_threshold = 30     # 6mm物理距离对应的像素距离\n",
    "    \n",
    "    # 绘图配置\n",
    "    plot_dir = fix_path(r\"D:\\Progress\\MRI\\output\\training_plots\")\n",
    "    os.makedirs(plot_dir, exist_ok=True)\n",
    "\n",
    "# 1. 标注解析 - 直接从CSV加载\n",
    "def parse_annotation(annotation_str):\n",
    "    \"\"\"解析CSV中的标注JSON字符串\"\"\"\n",
    "    try:\n",
    "        # 移除可能的额外引号\n",
    "        if annotation_str.startswith('\"') and annotation_str.endswith('\"'):\n",
    "            annotation_str = annotation_str[1:-1]\n",
    "        \n",
    "        # 替换单引号为双引号\n",
    "        annotation_str = annotation_str.replace(\"'\", '\"')\n",
    "        \n",
    "        # 解析JSON\n",
    "        ann_data = json.loads(annotation_str)\n",
    "        \n",
    "        # 提取关键点\n",
    "        points = []\n",
    "        for ann_group in ann_data:\n",
    "            if 'data' in ann_group and 'point' in ann_group['data']:\n",
    "                for point in ann_group['data']['point']:\n",
    "                    tag = point['tag']\n",
    "                    coord = point['coord']\n",
    "                    z_index = point['zIndex']\n",
    "                    \n",
    "                    # 解析椎体标注\n",
    "                    if 'vertebra' in tag:\n",
    "                        vertebra_val = tag['vertebra'].lower().strip()\n",
    "                        class_id = 0 if vertebra_val == 'v1' else 1\n",
    "                        points.append({\n",
    "                            \"coord\": coord,\n",
    "                            \"z_index\": z_index,\n",
    "                            \"label_type\": \"vertebra\",\n",
    "                            \"class_id\": class_id,\n",
    "                            \"position\": tag.get('identification', '')\n",
    "                        })\n",
    "                    \n",
    "                    # 解析椎间盘标注\n",
    "                    elif 'disc' in tag:\n",
    "                        disc_val = tag['disc'].lower().strip()\n",
    "                        disc_map = {\"v1\": 0, \"v2\": 1, \"v3\": 2, \"v4\": 3, \"v5\": 4}\n",
    "                        class_id = disc_map.get(disc_val, 0)\n",
    "                        points.append({\n",
    "                            \"coord\": coord,\n",
    "                            \"z_index\": z_index,\n",
    "                            \"label_type\": \"disc\",\n",
    "                            \"class_id\": class_id,\n",
    "                            \"position\": tag.get('identification', '')\n",
    "                        })\n",
    "        return points\n",
    "    except Exception as e:\n",
    "        print(f\"Error parsing annotation: {str(e)}\")\n",
    "        return []\n",
    "\n",
    "# 2. 自定义数据集类 - 使用CSV文件\n",
    "class SpinalDataset(Dataset):\n",
    "    def __init__(self, csv_path, patch_size=64, is_test=False):\n",
    "        self.patch_size = patch_size\n",
    "        self.is_test = is_test\n",
    "        \n",
    "        # 读取CSV文件\n",
    "        self.df = pd.read_csv(csv_path)\n",
    "        print(f\"Loaded dataset with {len(self.df)} samples from {csv_path}\")\n",
    "        \n",
    "        # 图像预处理\n",
    "        self.transform = transforms.Compose([\n",
    "            transforms.Resize((patch_size, patch_size)),\n",
    "            transforms.ToTensor(),\n",
    "            transforms.Normalize(mean=[0.5], std=[0.5])\n",
    "        ])\n",
    "    \n",
    "    def __len__(self):\n",
    "        return len(self.df)\n",
    "    \n",
    "    def __getitem__(self, idx):\n",
    "        row = self.df.iloc[idx]\n",
    "        dcm_path = row['dcmPath']\n",
    "        annotation_str = row['annotation']\n",
    "        \n",
    "        # 解析标注\n",
    "        annotations = parse_annotation(annotation_str) if not self.is_test else []\n",
    "        \n",
    "        # 读取DICOM图像\n",
    "        try:\n",
    "            # 使用SimpleITK读取DICOM\n",
    "            reader = sitk.ImageFileReader()\n",
    "            reader.SetImageIO(\"GDCMImageIO\")\n",
    "            reader.SetFileName(dcm_path)\n",
    "            image = reader.Execute()\n",
    "            \n",
    "            # 转换为numpy数组\n",
    "            img_array = sitk.GetArrayFromImage(image)[0]\n",
    "            \n",
    "            # 获取像素间距\n",
    "            if reader.HasMetaDataKey(\"0028|0030\"):\n",
    "                pixel_spacing = [float(x) for x in reader.GetMetaData(\"0028|0030\").split('\\\\')]\n",
    "            else:\n",
    "                pixel_spacing = [1.0, 1.0]\n",
    "        except Exception as e:\n",
    "            print(f\"Error reading DICOM file {dcm_path}: {str(e)}\")\n",
    "            # 返回空数据\n",
    "            return {\n",
    "                \"patches\": torch.zeros(0, 1, self.patch_size, self.patch_size),\n",
    "                \"labels\": torch.zeros(0, dtype=torch.long),\n",
    "                \"label_types\": torch.zeros(0, dtype=torch.long),\n",
    "                \"instance_uid\": row['instanceUid'],\n",
    "                \"points\": []\n",
    "            }\n",
    "        \n",
    "        # 存储所有点信息\n",
    "        all_points = []\n",
    "        patches = []\n",
    "        labels = []\n",
    "        label_types = []\n",
    "        \n",
    "        # 提取每个关键点的图像块\n",
    "        for ann in annotations:\n",
    "            x, y = ann[\"coord\"]\n",
    "            \n",
    "            # 提取图像块\n",
    "            patch = self.extract_patch(img_array, x, y)\n",
    "            patch = Image.fromarray(patch)\n",
    "            patch = self.transform(patch)\n",
    "            \n",
    "            patches.append(patch)\n",
    "            labels.append(ann[\"class_id\"])\n",
    "            label_types.append(0 if ann[\"label_type\"] == \"vertebra\" else 1)\n",
    "            \n",
    "            # 存储点信息\n",
    "            all_points.append({\n",
    "                \"coord\": [x, y],\n",
    "                \"label_type\": ann[\"label_type\"],\n",
    "                \"class_id\": ann[\"class_id\"],\n",
    "                \"pixel_spacing\": pixel_spacing,\n",
    "                \"position\": ann[\"position\"]\n",
    "            })\n",
    "        \n",
    "        # 将列表转换为张量\n",
    "        if patches:\n",
    "            patches = torch.stack(patches)\n",
    "        else:\n",
    "            patches = torch.zeros(0, 1, self.patch_size, self.patch_size)\n",
    "        \n",
    "        labels = torch.tensor(labels, dtype=torch.long) if labels else torch.zeros(0, dtype=torch.long)\n",
    "        label_types = torch.tensor(label_types, dtype=torch.long) if label_types else torch.zeros(0, dtype=torch.long)\n",
    "        \n",
    "        return {\n",
    "            \"patches\": patches,\n",
    "            \"labels\": labels,\n",
    "            \"label_types\": label_types,\n",
    "            \"instance_uid\": row['instanceUid'],\n",
    "            \"points\": all_points\n",
    "        }\n",
    "    \n",
    "    def extract_patch(self, img, x, y):\n",
    "        \"\"\"提取以关键点为中心的图像块并进行归一化\"\"\"\n",
    "        h, w = img.shape\n",
    "        half_size = self.patch_size // 2\n",
    "        \n",
    "        # 计算边界\n",
    "        x_min = max(0, int(x) - half_size)\n",
    "        x_max = min(w, int(x) + half_size)\n",
    "        y_min = max(0, int(y) - half_size)\n",
    "        y_max = min(h, int(y) + half_size)\n",
    "        \n",
    "        # 提取图像块\n",
    "        patch = img[y_min:y_max, x_min:x_max]\n",
    "        \n",
    "        # 如果图像块小于指定尺寸，进行填充\n",
    "        pad_left = half_size - (int(x) - x_min)\n",
    "        pad_right = half_size - (x_max - int(x))\n",
    "        pad_top = half_size - (int(y) - y_min)\n",
    "        pad_bottom = half_size - (y_max - int(y))\n",
    "        \n",
    "        patch = np.pad(patch, \n",
    "                      ((pad_top, pad_bottom), \n",
    "                       (pad_left, pad_right)), \n",
    "                      mode='constant', constant_values=0)\n",
    "        \n",
    "        # 归一化\n",
    "        patch_min = patch.min()\n",
    "        patch_max = patch.max()\n",
    "        if patch_max > patch_min:\n",
    "            patch = (patch - patch_min) / (patch_max - patch_min) * 255\n",
    "        else:\n",
    "            patch = np.zeros_like(patch)\n",
    "        \n",
    "        return patch.astype(np.uint8)\n",
    "\n",
    "# 3. 双分支分类模型 (保持不变)\n",
    "class SpinalNet(nn.Module):\n",
    "    def __init__(self, num_vertebra_classes, num_disc_classes):\n",
    "        super(SpinalNet, self).__init__()\n",
    "        # 使用预训练的ResNet18（修改第一层为单通道）\n",
    "        try:\n",
    "            backbone = models.resnet18(weights=models.ResNet18_Weights.IMAGENET1K_V1)\n",
    "        except AttributeError:\n",
    "            backbone = models.resnet18(pretrained=True)\n",
    "            \n",
    "        backbone.conv1 = nn.Conv2d(1, 64, kernel_size=7, stride=2, padding=3, bias=False)\n",
    "        \n",
    "        # 特征提取器\n",
    "        self.feature_extractor = nn.Sequential(\n",
    "            backbone.conv1,\n",
    "            backbone.bn1,\n",
    "            backbone.relu,\n",
    "            backbone.maxpool,\n",
    "            backbone.layer1,\n",
    "            backbone.layer2,\n",
    "            backbone.layer3,\n",
    "            backbone.layer4,\n",
    "            backbone.avgpool\n",
    "        )\n",
    "        \n",
    "        # 椎体分类分支\n",
    "        self.vertebra_classifier = nn.Sequential(\n",
    "            nn.Linear(512, 256),\n",
    "            nn.ReLU(),\n",
    "            nn.Dropout(0.5),\n",
    "            nn.Linear(256, num_vertebra_classes)\n",
    "        )\n",
    "        \n",
    "        # 椎间盘分类分支\n",
    "        self.disc_classifier = nn.Sequential(\n",
    "            nn.Linear(512, 512),\n",
    "            nn.ReLU(),\n",
    "            nn.Dropout(0.5),\n",
    "            nn.Linear(512, num_disc_classes))\n",
    "    \n",
    "    def forward(self, x, label_types):\n",
    "        # 提取特征\n",
    "        features = self.feature_extractor(x)\n",
    "        features = features.view(features.size(0), -1)\n",
    "        \n",
    "        # 初始化输出\n",
    "        outputs = torch.zeros(x.size(0), max(\n",
    "            self.vertebra_classifier[-1].out_features,\n",
    "            self.disc_classifier[-1].out_features\n",
    "        )).to(x.device)\n",
    "        \n",
    "        # 椎体样本\n",
    "        vertebra_mask = (label_types == 0)\n",
    "        if torch.any(vertebra_mask):\n",
    "            vertebra_features = features[vertebra_mask]\n",
    "            vertebra_output = self.vertebra_classifier(vertebra_features)\n",
    "            outputs[vertebra_mask, :vertebra_output.size(1)] = vertebra_output\n",
    "        \n",
    "        # 椎间盘样本\n",
    "        disc_mask = (label_types == 1)\n",
    "        if torch.any(disc_mask):\n",
    "            disc_features = features[disc_mask]\n",
    "            disc_output = self.disc_classifier(disc_features)\n",
    "            outputs[disc_mask, :disc_output.size(1)] = disc_output\n",
    "        \n",
    "        return outputs\n",
    "\n",
    "# 4. 评估函数（计算mAP）\n",
    "def evaluate_predictions(gt_points, pred_points, pixel_threshold):\n",
    "    \"\"\"\n",
    "    评估预测结果，计算mAP\n",
    "    gt_points: 真实点列表 [{\"coord\": [x,y], \"label_type\": ..., \"class_id\": ...}]\n",
    "    pred_points: 预测点列表 [{\"coord\": [x,y], \"label_type\": ..., \"class_id\": ..., \"prob\": ...}]\n",
    "    pixel_threshold: 匹配阈值（像素距离）\n",
    "    \"\"\"\n",
    "    # 如果没有真实点或预测点，直接返回0\n",
    "    if not gt_points or not pred_points:\n",
    "        return 0.0, [], []\n",
    "    \n",
    "    # 按类别组织点\n",
    "    gt_by_class = {}\n",
    "    pred_by_class = {}\n",
    "    \n",
    "    # 初始化类别字典\n",
    "    for class_id in range(Config.num_vertebra_classes + Config.num_disc_classes):\n",
    "        gt_by_class[class_id] = []\n",
    "        pred_by_class[class_id] = []\n",
    "    \n",
    "    # 填充真实点\n",
    "    for point in gt_points:\n",
    "        class_id = point[\"class_id\"]\n",
    "        if point[\"label_type\"] == \"disc\":\n",
    "            class_id += Config.num_vertebra_classes  # 椎间盘类ID偏移\n",
    "        gt_by_class[class_id].append(point)\n",
    "    \n",
    "    # 填充预测点\n",
    "    for point in pred_points:\n",
    "        class_id = point[\"class_id\"]\n",
    "        if point[\"label_type\"] == \"disc\":\n",
    "            class_id += Config.num_vertebra_classes  # 椎间盘类ID偏移\n",
    "        \n",
    "        # 只保留每个类别的预测\n",
    "        if class_id < Config.num_vertebra_classes + Config.num_disc_classes:\n",
    "            pred_by_class[class_id].append(point)\n",
    "    \n",
    "    # 计算每个类别的AP\n",
    "    aps = []\n",
    "    class_names = []\n",
    "    \n",
    "    # 椎体类别名称\n",
    "    vertebra_types = [\"Normal\", \"Degeneration\"]\n",
    "    for i in range(Config.num_vertebra_classes):\n",
    "        class_names.append(f\"Vertebra_{vertebra_types[i]}\")\n",
    "    \n",
    "    # 椎间盘类别名称\n",
    "    disc_types = [\"Normal\", \"Bulge\", \"Protruded\", \"Extruded\", \"Schmorl\"]\n",
    "    for i in range(Config.num_disc_classes):\n",
    "        class_names.append(f\"Disc_{disc_types[i]}\")\n",
    "    \n",
    "    # 计算每个类别的AP\n",
    "    for class_id in range(Config.num_vertebra_classes + Config.num_disc_classes):\n",
    "        class_gt = gt_by_class[class_id]\n",
    "        class_pred = pred_by_class[class_id]\n",
    "        \n",
    "        # 如果没有真实点和预测点，跳过\n",
    "        if not class_gt and not class_pred:\n",
    "            continue\n",
    "            \n",
    "        # 按置信度排序预测点\n",
    "        class_pred.sort(key=lambda x: x[\"prob\"], reverse=True)\n",
    "        \n",
    "        # 初始化匹配状态\n",
    "        gt_matched = [False] * len(class_gt)\n",
    "        tp = np.zeros(len(class_pred))\n",
    "        fp = np.zeros(len(class_pred))\n",
    "        \n",
    "        # 匹配预测点和真实点\n",
    "        for i, pred in enumerate(class_pred):\n",
    "            min_dist = float('inf')\n",
    "            matched_idx = -1\n",
    "            \n",
    "            # 计算到每个真实点的距离\n",
    "            for j, gt in enumerate(class_gt):\n",
    "                if gt_matched[j]:\n",
    "                    continue\n",
    "                \n",
    "                # 计算欧氏距离\n",
    "                dist = np.sqrt((pred[\"coord\"][0] - gt[\"coord\"][0])**2 + \n",
    "                              (pred[\"coord\"][1] - gt[\"coord\"][1])**2)\n",
    "                \n",
    "                # 考虑像素间距（转换为物理距离）\n",
    "                pixel_spacing = np.mean(gt[\"pixel_spacing\"])\n",
    "                dist_mm = dist * pixel_spacing\n",
    "                \n",
    "                # 使用物理距离阈值6mm\n",
    "                if dist_mm < 6.0 and dist < min_dist:\n",
    "                    min_dist = dist\n",
    "                    matched_idx = j\n",
    "            \n",
    "            # 检查是否匹配\n",
    "            if matched_idx >= 0:\n",
    "                # 计算偏移后的类别ID\n",
    "                gt_class_id = class_gt[matched_idx][\"class_id\"]\n",
    "                if class_gt[matched_idx][\"label_type\"] == \"disc\":\n",
    "                    gt_class_id += Config.num_vertebra_classes\n",
    "                \n",
    "                # 检查类别是否匹配\n",
    "                if class_id == gt_class_id:\n",
    "                    tp[i] = 1\n",
    "                    gt_matched[matched_idx] = True\n",
    "                else:\n",
    "                    fp[i] = 1\n",
    "            else:\n",
    "                fp[i] = 1\n",
    "        \n",
    "        # 计算精度和召回率\n",
    "        fp_cumsum = np.cumsum(fp)\n",
    "        tp_cumsum = np.cumsum(tp)\n",
    "        recall = tp_cumsum / max(len(class_gt), 1e-5)\n",
    "        precision = tp_cumsum / np.maximum(tp_cumsum + fp_cumsum, 1e-5)\n",
    "        \n",
    "        # 计算AP（平均精度）\n",
    "        ap = 0.0\n",
    "        if len(class_pred) > 0 and len(class_gt) > 0:\n",
    "            # 创建真实标签和预测概率\n",
    "            y_true = np.zeros(len(class_pred))\n",
    "            y_score = np.zeros(len(class_pred))\n",
    "            \n",
    "            # 标记匹配的真实点\n",
    "            for j in range(len(class_gt)):\n",
    "                if gt_matched[j]:\n",
    "                    # 找到匹配的预测点\n",
    "                    for i in range(len(class_pred)):\n",
    "                        if tp[i] == 1 and not np.isclose(y_true[i], 1.0):\n",
    "                            y_true[i] = 1\n",
    "                            y_score[i] = class_pred[i][\"prob\"]\n",
    "                            break\n",
    "            \n",
    "            # 计算AP\n",
    "            if np.sum(y_true) > 0:\n",
    "                ap = average_precision_score(y_true, y_score)\n",
    "        \n",
    "        aps.append(ap)\n",
    "    \n",
    "    # 计算mAP\n",
    "    map_score = np.mean(aps) if aps else 0.0\n",
    "    return map_score, aps, class_names\n",
    "\n",
    "# 5. 训练和验证函数\n",
    "def train_and_validate():\n",
    "    # 记录训练历史\n",
    "    history = {\n",
    "        'train_loss': [],\n",
    "        'val_map': [],\n",
    "        'epoch_times': []\n",
    "    }\n",
    "    \n",
    "    # 创建数据集\n",
    "    print(\"Creating datasets...\")\n",
    "    train_dataset = SpinalDataset(Config.train_data_csv, Config.patch_size)\n",
    "    val_dataset = SpinalDataset(Config.valid_data_csv, Config.patch_size)\n",
    "    \n",
    "    # 创建数据加载器\n",
    "    train_loader = DataLoader(train_dataset, batch_size=Config.batch_size, shuffle=True, \n",
    "                             collate_fn=lambda x: x, num_workers=0, pin_memory=True)\n",
    "    val_loader = DataLoader(val_dataset, batch_size=Config.batch_size, shuffle=False, \n",
    "                           collate_fn=lambda x: x, num_workers=0, pin_memory=True)\n",
    "    \n",
    "    # 初始化模型\n",
    "    print(\"Initializing model...\")\n",
    "    model = SpinalNet(Config.num_vertebra_classes, Config.num_disc_classes)\n",
    "    model.to(Config.device)\n",
    "    \n",
    "\n",
    "    \n",
    "    # 损失函数和优化器\n",
    "    criterion = nn.CrossEntropyLoss()\n",
    "    optimizer = optim.Adam(model.parameters(), lr=Config.learning_rate)\n",
    "    scheduler = optim.lr_scheduler.StepLR(optimizer, step_size=5, gamma=0.5)\n",
    "    \n",
    "    # 训练循环\n",
    "    print(f\"Starting training on {Config.device}...\")\n",
    "    best_map = 0.0\n",
    "    best_model = None\n",
    "    \n",
    "    for epoch in range(Config.num_epochs):\n",
    "        epoch_start_time = time.time()\n",
    "        model.train()\n",
    "        running_loss = 0.0\n",
    "        processed_samples = 0\n",
    "        \n",
    "        # 训练阶段\n",
    "        train_loop = tqdm(train_loader, desc=f\"Epoch {epoch+1}/{Config.num_epochs}\")\n",
    "        for batch in train_loop:\n",
    "            # 自定义批次处理\n",
    "            all_patches = []\n",
    "            all_labels = []\n",
    "            all_label_types = []\n",
    "            \n",
    "            for sample in batch:\n",
    "                if len(sample[\"patches\"]) > 0:\n",
    "                    all_patches.append(sample[\"patches\"])\n",
    "                    all_labels.append(sample[\"labels\"])\n",
    "                    all_label_types.append(sample[\"label_types\"])\n",
    "            \n",
    "            if not all_patches:\n",
    "                continue\n",
    "                \n",
    "            # 合并批次\n",
    "            patches = torch.cat(all_patches).to(Config.device, non_blocking=True)\n",
    "            labels = torch.cat(all_labels).to(Config.device, non_blocking=True)\n",
    "            label_types = torch.cat(all_label_types).to(Config.device, non_blocking=True)\n",
    "            \n",
    "            # 前向传播\n",
    "            outputs = model(patches, label_types)\n",
    "            \n",
    "            # 计算损失\n",
    "            loss = criterion(outputs, labels)\n",
    "            \n",
    "            # 反向传播\n",
    "            optimizer.zero_grad(set_to_none=True)\n",
    "            loss.backward()\n",
    "            optimizer.step()\n",
    "            \n",
    "            running_loss += loss.item() * len(patches)\n",
    "            processed_samples += len(patches)\n",
    "            \n",
    "            # 更新进度条\n",
    "            train_loop.set_postfix(loss=loss.item())\n",
    "        \n",
    "        # 更新学习率\n",
    "        scheduler.step()\n",
    "        \n",
    "        # 计算平均训练损失\n",
    "        epoch_loss = running_loss / processed_samples if processed_samples > 0 else 0\n",
    "        history['train_loss'].append(epoch_loss)\n",
    "        \n",
    "        # 验证阶段\n",
    "        model.eval()\n",
    "        val_map = 0.0\n",
    "        val_samples = 0\n",
    "        \n",
    "        with torch.no_grad():\n",
    "            for batch in tqdm(val_loader, desc=\"Validating\"):\n",
    "                for sample in batch:\n",
    "                    if len(sample[\"patches\"]) == 0:\n",
    "                        continue\n",
    "                        \n",
    "                    patches = sample[\"patches\"].to(Config.device)\n",
    "                    labels = sample[\"labels\"].to(Config.device)\n",
    "                    label_types = sample[\"label_types\"].to(Config.device)\n",
    "                    \n",
    "                    # 前向传播\n",
    "                    outputs = model(patches, label_types)\n",
    "                    probs = torch.softmax(outputs, dim=1)\n",
    "                    \n",
    "                    # 收集预测点\n",
    "                    pred_points = []\n",
    "                    for i in range(len(patches)):\n",
    "                        class_id = torch.argmax(probs[i]).item()\n",
    "                        prob = probs[i][class_id].item()\n",
    "                        label_type = \"vertebra\" if label_types[i].item() == 0 else \"disc\"\n",
    "                        coord = sample[\"points\"][i][\"coord\"] if i < len(sample[\"points\"]) else [0, 0]\n",
    "                        \n",
    "                        pred_points.append({\n",
    "                            \"coord\": coord,\n",
    "                            \"label_type\": label_type,\n",
    "                            \"class_id\": class_id,\n",
    "                            \"prob\": prob\n",
    "                        })\n",
    "                    \n",
    "                    # 评估\n",
    "                    map_score, _, _ = evaluate_predictions(sample[\"points\"], pred_points, Config.pixel_threshold)\n",
    "                    val_map += map_score\n",
    "                    val_samples += 1\n",
    "        \n",
    "        # 计算平均mAP\n",
    "        val_map = val_map / val_samples if val_samples > 0 else 0\n",
    "        history['val_map'].append(val_map)\n",
    "        \n",
    "        # 保存最佳模型\n",
    "        if val_map > best_map:\n",
    "            best_map = val_map\n",
    "            best_model = copy.deepcopy(model.state_dict())\n",
    "            torch.save(best_model, fix_path(r\"D:\\Progress\\MRI\\output\\best_model.pth\"))\n",
    "        \n",
    "        # 记录epoch时间\n",
    "        epoch_time = time.time() - epoch_start_time\n",
    "        history['epoch_times'].append(epoch_time)\n",
    "        \n",
    "        # 打印统计信息\n",
    "        print(f\"Epoch [{epoch+1}/{Config.num_epochs}] - \"\n",
    "              f\"Time: {epoch_time:.1f}s - \"\n",
    "              f\"Train Loss: {epoch_loss:.4f} - \"\n",
    "              f\"Val mAP: {val_map:.4f} - \"\n",
    "              f\"LR: {scheduler.get_last_lr()[0]:.6f}\")\n",
    "        \n",
    "        # 绘制训练曲线\n",
    "        plot_training_history(history, epoch+1)\n",
    "    \n",
    "    # 加载最佳模型\n",
    "    model.load_state_dict(best_model)\n",
    "    return model, history\n",
    "\n",
    "# 6. 绘制训练历史\n",
    "def plot_training_history(history, current_epoch):\n",
    "    plt.figure(figsize=(12, 6))\n",
    "    \n",
    "    # 训练损失曲线\n",
    "    plt.subplot(1, 2, 1)\n",
    "    plt.plot(history['train_loss'], 'b-o', label='Training Loss')\n",
    "    plt.title('Training Loss')\n",
    "    plt.xlabel('Epoch')\n",
    "    plt.ylabel('Loss')\n",
    "    plt.grid(True)\n",
    "    plt.legend()\n",
    "    \n",
    "    # 验证mAP曲线\n",
    "    plt.subplot(1, 2, 2)\n",
    "    plt.plot(history['val_map'], 'r-o', label='Validation mAP')\n",
    "    plt.title('Validation mAP')\n",
    "    plt.xlabel('Epoch')\n",
    "    plt.ylabel('mAP')\n",
    "    plt.grid(True)\n",
    "    plt.legend()\n",
    "    \n",
    "    # 保存图像\n",
    "    plt.tight_layout()\n",
    "    plot_path = os.path.join(Config.plot_dir, f\"training_epoch_{current_epoch}.png\")\n",
    "    plt.savefig(plot_path)\n",
    "    plt.close()\n",
    "    \n",
    "    # 创建最新图像副本\n",
    "    latest_path = os.path.join(Config.plot_dir, \"latest_training.png\")\n",
    "    plt.figure(figsize=(12, 6))\n",
    "    \n",
    "    plt.subplot(1, 2, 1)\n",
    "    plt.plot(history['train_loss'], 'b-o', label='Training Loss')\n",
    "    plt.title('Training Loss')\n",
    "    plt.xlabel('Epoch')\n",
    "    plt.ylabel('Loss')\n",
    "    plt.grid(True)\n",
    "    plt.legend()\n",
    "    \n",
    "    plt.subplot(1, 2, 2)\n",
    "    plt.plot(history['val_map'], 'r-o', label='Validation mAP')\n",
    "    plt.title('Validation mAP')\n",
    "    plt.xlabel('Epoch')\n",
    "    plt.ylabel('mAP')\n",
    "    plt.grid(True)\n",
    "    plt.legend()\n",
    "    \n",
    "    plt.tight_layout()\n",
    "    plt.savefig(latest_path)\n",
    "    plt.close()\n",
    "\n",
    "# 7. 主函数\n",
    "if __name__ == \"__main__\":\n",
    "    print(\"Starting spinal classification training...\")\n",
    "    start_time = time.time()\n",
    "    \n",
    "    # 训练和验证\n",
    "    trained_model, history = train_and_validate()\n",
    "    \n",
    "    # 输出总训练时间\n",
    "    total_time = time.time() - start_time\n",
    "    avg_epoch_time = np.mean(history['epoch_times']) if history['epoch_times'] else 0\n",
    "    print(f\"\\nTraining completed in {total_time:.2f} seconds\")\n",
    "    print(f\"Average epoch time: {avg_epoch_time:.2f} seconds\")\n",
    "    \n",
    "    # 绘制最终训练曲线\n",
    "    plt.figure(figsize=(12, 6))\n",
    "    \n",
    "    # 训练损失曲线\n",
    "    plt.subplot(1, 2, 1)\n",
    "    plt.plot(history['train_loss'], 'b-o', label='Training Loss')\n",
    "    plt.title('Training Loss')\n",
    "    plt.xlabel('Epoch')\n",
    "    plt.ylabel('Loss')\n",
    "    plt.grid(True)\n",
    "    plt.legend()\n",
    "    \n",
    "    # 验证mAP曲线\n",
    "    plt.subplot(1, 2, 2)\n",
    "    plt.plot(history['val_map'], 'r-o', label='Validation mAP')\n",
    "    plt.title('Validation mAP')\n",
    "    plt.xlabel('Epoch')\n",
    "    plt.ylabel('mAP')\n",
    "    plt.grid(True)\n",
    "    plt.legend()\n",
    "    \n",
    "    final_plot_path = os.path.join(Config.plot_dir, \"final_training_curve.png\")\n",
    "    plt.tight_layout()\n",
    "    plt.savefig(final_plot_path)\n",
    "    print(f\"Final training curve saved to {final_plot_path}\")"
   ]
  },
  {
   "cell_type": "code",
   "execution_count": null,
   "id": "9bd8aab5-fc02-4b15-b185-d6f587b229ee",
   "metadata": {},
   "outputs": [],
   "source": []
  }
 ],
 "metadata": {
  "kernelspec": {
   "display_name": "DeepSeek Kernel",
   "language": "python",
   "name": "deepseek"
  },
  "language_info": {
   "codemirror_mode": {
    "name": "ipython",
    "version": 3
   },
   "file_extension": ".py",
   "mimetype": "text/x-python",
   "name": "python",
   "nbconvert_exporter": "python",
   "pygments_lexer": "ipython3",
   "version": "3.10.16"
  }
 },
 "nbformat": 4,
 "nbformat_minor": 5
}
